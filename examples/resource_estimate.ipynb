{
 "cells": [
  {
   "cell_type": "code",
   "execution_count": 1,
   "id": "4b36b4a1",
   "metadata": {},
   "outputs": [],
   "source": [
    "import qiskit\n",
    "import qiskit_superstaq as qss\n",
    "\n",
    "from general_superstaq import ResourceEstimate\n",
    "from qiskit.circuit.random import random_circuit"
   ]
  },
  {
   "cell_type": "markdown",
   "id": "ccb91cb3",
   "metadata": {},
   "source": [
    "# Getting Resource Estimate Costs"
   ]
  },
  {
   "cell_type": "code",
   "execution_count": 2,
   "id": "d40dcb80",
   "metadata": {},
   "outputs": [],
   "source": [
    "# Connect to SuperstaQ\n",
    "# Provide your api key to the using the \"api_key\" argument if\n",
    "# SUPERSTAQ_API_KEY environment variable is not set.\n",
    "superstaq = qss.superstaq_provider.SuperstaQProvider()"
   ]
  },
  {
   "cell_type": "markdown",
   "id": "3c0adcd4",
   "metadata": {},
   "source": [
    "# Resource Estimate for Simple Circuit"
   ]
  },
  {
   "cell_type": "code",
   "execution_count": 3,
   "id": "06d9507d",
   "metadata": {},
   "outputs": [
    {
     "data": {
      "text/html": [
       "<pre style=\"word-wrap: normal;white-space: pre;background: #fff0;line-height: 1.1;font-family: &quot;Courier New&quot;,Courier,monospace\">               \n",
       "q_0: ──■───────\n",
       "     ┌─┴─┐┌───┐\n",
       "q_1: ┤ X ├┤ H ├\n",
       "     └───┘└───┘</pre>"
      ],
      "text/plain": [
       "               \n",
       "q_0: ──■───────\n",
       "     ┌─┴─┐┌───┐\n",
       "q_1: ┤ X ├┤ H ├\n",
       "     └───┘└───┘"
      ]
     },
     "execution_count": 3,
     "metadata": {},
     "output_type": "execute_result"
    }
   ],
   "source": [
    "# Create simple circuit and submit to Neutral Atom Device\n",
    "circuit = qiskit.QuantumCircuit(2)\n",
    "circuit.cnot(0, 1)\n",
    "circuit.h(1)\n",
    "\n",
    "circuit.draw()"
   ]
  },
  {
   "cell_type": "code",
   "execution_count": 4,
   "id": "db0e2925",
   "metadata": {},
   "outputs": [
    {
     "name": "stdout",
     "output_type": "stream",
     "text": [
      "ResourceEstimate(num_single_qubit_gates=1, num_two_qubit_gates=1, depth=2)\n"
     ]
    }
   ],
   "source": [
    "resource_estimate = superstaq.resource_estimate(circuit, \"neutral_atom_qpu\")\n",
    "print(resource_estimate)"
   ]
  },
  {
   "cell_type": "markdown",
   "id": "c15d43ef",
   "metadata": {},
   "source": [
    "# Resource Estimate for More Complex Random Circuit"
   ]
  },
  {
   "cell_type": "code",
   "execution_count": 5,
   "id": "c0046139",
   "metadata": {},
   "outputs": [
    {
     "data": {
      "text/html": [
       "<pre style=\"word-wrap: normal;white-space: pre;background: #fff0;line-height: 1.1;font-family: &quot;Courier New&quot;,Courier,monospace\">                                                                           »\n",
       "q_0: ─■─────────────────────────────────────────────────────■──────────────»\n",
       "      │                       ┌───┐            ┌────────────┴────────────┐ »\n",
       "q_1: ─┼───────────────────────┤ H ├────────────┤ U3(4.4986,5.217,5.8575) ├─»\n",
       "      │U1(3.5116) ┌───────────┴───┴───────────┐├─────────────────────────┴┐»\n",
       "q_2: ─■───────────┤ U3(1.1229,0.48484,1.7987) ├┤ U3(2.1973,6.0012,4.1863) ├»\n",
       "         ┌───┐    └──────────┬─────┬──────────┘└──────────────────────────┘»\n",
       "q_3: ────┤ X ├───────────────┤ Sdg ├───────────────────────────────────────»\n",
       "         └───┘               └─────┘                                       »\n",
       "c: 4/══════════════════════════════════════════════════════════════════════»\n",
       "                                                                           »\n",
       "«     ┌───┐             ┌─┐      \n",
       "«q_0: ┤ H ├──────X──────┤M├──────\n",
       "«     └─┬─┘┌───┐ │ ┌───┐└╥┘┌─┐   \n",
       "«q_1: ──┼──┤ T ├─┼─┤ S ├─╫─┤M├───\n",
       "«       │  ├───┤ │ └┬─┬┘ ║ └╥┘   \n",
       "«q_2: ──┼──┤ T ├─┼──┤M├──╫──╫────\n",
       "«       │  └───┘ │  └╥┘  ║  ║ ┌─┐\n",
       "«q_3: ──■────────X───╫───╫──╫─┤M├\n",
       "«                    ║   ║  ║ └╥┘\n",
       "«c: 4/═══════════════╩═══╩══╩══╩═\n",
       "«                    2   0  1  3 </pre>"
      ],
      "text/plain": [
       "                                                                           »\n",
       "q_0: ─■─────────────────────────────────────────────────────■──────────────»\n",
       "      │                       ┌───┐            ┌────────────┴────────────┐ »\n",
       "q_1: ─┼───────────────────────┤ H ├────────────┤ U3(4.4986,5.217,5.8575) ├─»\n",
       "      │U1(3.5116) ┌───────────┴───┴───────────┐├─────────────────────────┴┐»\n",
       "q_2: ─■───────────┤ U3(1.1229,0.48484,1.7987) ├┤ U3(2.1973,6.0012,4.1863) ├»\n",
       "         ┌───┐    └──────────┬─────┬──────────┘└──────────────────────────┘»\n",
       "q_3: ────┤ X ├───────────────┤ Sdg ├───────────────────────────────────────»\n",
       "         └───┘               └─────┘                                       »\n",
       "c: 4/══════════════════════════════════════════════════════════════════════»\n",
       "                                                                           »\n",
       "«     ┌───┐             ┌─┐      \n",
       "«q_0: ┤ H ├──────X──────┤M├──────\n",
       "«     └─┬─┘┌───┐ │ ┌───┐└╥┘┌─┐   \n",
       "«q_1: ──┼──┤ T ├─┼─┤ S ├─╫─┤M├───\n",
       "«       │  ├───┤ │ └┬─┬┘ ║ └╥┘   \n",
       "«q_2: ──┼──┤ T ├─┼──┤M├──╫──╫────\n",
       "«       │  └───┘ │  └╥┘  ║  ║ ┌─┐\n",
       "«q_3: ──■────────X───╫───╫──╫─┤M├\n",
       "«                    ║   ║  ║ └╥┘\n",
       "«c: 4/═══════════════╩═══╩══╩══╩═\n",
       "«                    2   0  1  3 "
      ]
     },
     "execution_count": 5,
     "metadata": {},
     "output_type": "execute_result"
    }
   ],
   "source": [
    "# Create and submit random circuit to Neutral Atom Device\n",
    "circuit_random = random_circuit(4, 4, measure=True)\n",
    "circuit_random.draw()"
   ]
  },
  {
   "cell_type": "code",
   "execution_count": 6,
   "id": "9b28d07a",
   "metadata": {},
   "outputs": [
    {
     "name": "stdout",
     "output_type": "stream",
     "text": [
      "ResourceEstimate(num_single_qubit_gates=13, num_two_qubit_gates=4, depth=6)\n"
     ]
    }
   ],
   "source": [
    "resource_estimate = superstaq.resource_estimate(circuit_random, \"neutral_atom_qpu\")\n",
    "print(resource_estimate)"
   ]
  },
  {
   "cell_type": "markdown",
   "id": "246682db",
   "metadata": {},
   "source": [
    "# Example on Circuit Compiled on IBMQ Device"
   ]
  },
  {
   "cell_type": "code",
   "execution_count": 7,
   "id": "ada8b157",
   "metadata": {},
   "outputs": [
    {
     "data": {
      "text/html": [
       "<pre style=\"word-wrap: normal;white-space: pre;background: #fff0;line-height: 1.1;font-family: &quot;Courier New&quot;,Courier,monospace\">        \n",
       "q_0: ─X─\n",
       "      │ \n",
       "q_1: ─X─\n",
       "        </pre>"
      ],
      "text/plain": [
       "        \n",
       "q_0: ─X─\n",
       "      │ \n",
       "q_1: ─X─\n",
       "        "
      ]
     },
     "execution_count": 7,
     "metadata": {},
     "output_type": "execute_result"
    }
   ],
   "source": [
    "circuit2 = qiskit.QuantumCircuit(2)\n",
    "circuit2.swap(0, 1)\n",
    "circuit2.draw()"
   ]
  },
  {
   "cell_type": "code",
   "execution_count": 8,
   "id": "74764470",
   "metadata": {},
   "outputs": [
    {
     "name": "stdout",
     "output_type": "stream",
     "text": [
      "     ┌─────────┐┌───────────┐┌─────────┐ ┌─────────┐┌───────┐┌───────────┐»\n",
      "q_0: ┤ Rz(π/2) ├┤0          ├┤ Rz(π/2) ├─┤ Rx(π/2) ├┤ Rz(π) ├┤0          ├»\n",
      "     └─────────┘│  Acecr_mp │├─────────┴┐├─────────┤└───────┘│  Acecr_pm │»\n",
      "q_1: ───────────┤1          ├┤ Rz(3π/2) ├┤ Rx(π/2) ├─────────┤1          ├»\n",
      "                └───────────┘└──────────┘└─────────┘         └───────────┘»\n",
      "q_2: ─────────────────────────────────────────────────────────────────────»\n",
      "                                                                          »\n",
      "q_3: ─────────────────────────────────────────────────────────────────────»\n",
      "                                                                          »\n",
      "q_4: ─────────────────────────────────────────────────────────────────────»\n",
      "                                                                          »\n",
      "q_5: ─────────────────────────────────────────────────────────────────────»\n",
      "                                                                          »\n",
      "q_6: ─────────────────────────────────────────────────────────────────────»\n",
      "                                                                          »\n",
      "«     ┌──────────┐┌─────────┐┌───────┐┌───────────┐\n",
      "«q_0: ┤ Rz(3π/2) ├┤ Rx(π/2) ├┤ Rz(π) ├┤0          ├\n",
      "«     ├──────────┤└─────────┘└───────┘│  Acecr_pm │\n",
      "«q_1: ┤ Rz(3π/2) ├────────────────────┤1          ├\n",
      "«     └──────────┘                    └───────────┘\n",
      "«q_2: ─────────────────────────────────────────────\n",
      "«                                                  \n",
      "«q_3: ─────────────────────────────────────────────\n",
      "«                                                  \n",
      "«q_4: ─────────────────────────────────────────────\n",
      "«                                                  \n",
      "«q_5: ─────────────────────────────────────────────\n",
      "«                                                  \n",
      "«q_6: ─────────────────────────────────────────────\n",
      "«                                                  \n"
     ]
    }
   ],
   "source": [
    "out = superstaq.ibmq_compile(circuit2, target=\"ibmq_jakarta_qpu\")\n",
    "print(out.circuit)"
   ]
  },
  {
   "cell_type": "code",
   "execution_count": 9,
   "id": "786bf2b3",
   "metadata": {},
   "outputs": [
    {
     "name": "stdout",
     "output_type": "stream",
     "text": [
      "ResourceEstimate(num_single_qubit_gates=10, num_two_qubit_gates=3, depth=10)\n"
     ]
    }
   ],
   "source": [
    "resource_estimate = superstaq.resource_estimate(circuit2, \"ibmq_jakarta_qpu\")\n",
    "print(resource_estimate)"
   ]
  },
  {
   "cell_type": "markdown",
   "id": "712cea74",
   "metadata": {},
   "source": [
    "# Multiple Circuit Example"
   ]
  },
  {
   "cell_type": "code",
   "execution_count": 10,
   "id": "1a904971",
   "metadata": {},
   "outputs": [
    {
     "name": "stdout",
     "output_type": "stream",
     "text": [
      "          ┌───┐┌─┐   \n",
      "q_0: ──■──┤ Y ├┤M├───\n",
      "     ┌─┴─┐├───┤└╥┘┌─┐\n",
      "q_1: ┤ Y ├┤ H ├─╫─┤M├\n",
      "     └───┘└───┘ ║ └╥┘\n",
      "c: 2/═══════════╩══╩═\n",
      "                0  1 \n",
      "                 ┌──────────┐┌───────────────────────────┐┌─┐      \n",
      "q_0: ───■────────┤ Rz(3.59) ├┤ U3(0.70799,1.9078,5.5128) ├┤M├──────\n",
      "      ┌─┴─┐ ┌───┐└────┬─────┘└───────────┬───┬───────────┘└╥┘┌─┐   \n",
      "q_1: ─┤ H ├─┤ T ├─────┼──────────────────┤ H ├─────────────╫─┤M├───\n",
      "     ┌┴───┴┐└───┘     │                 ┌┴───┴┐            ║ └╥┘┌─┐\n",
      "q_2: ┤ Sdg ├──────────■─────────────────┤ Tdg ├────────────╫──╫─┤M├\n",
      "     └─────┘                            └─────┘            ║  ║ └╥┘\n",
      "c: 3/══════════════════════════════════════════════════════╩══╩══╩═\n",
      "                                                           0  1  2 \n",
      "     ┌───┐┌────────────┐┌────────────┐ ┌────────────┐              ┌─┐      \n",
      "q_0: ┤ X ├┤ Rz(3.5348) ├┤ Rz(3.1407) ├─┤ Rx(2.9763) ├──────────────┤M├──────\n",
      "     └─┬─┘└────────────┘└────────────┘┌┴────────────┤              └╥┘┌─┐   \n",
      "q_1: ──■────────X────────■────────────┤ Rx(0.15413) ├───────────────╫─┤M├───\n",
      "       │        │        │            └────┬───┬────┘┌────────────┐ ║ └╥┘┌─┐\n",
      "q_2: ──■────────X────────┼─────────────────┤ T ├─────┤ Ry(4.3137) ├─╫──╫─┤M├\n",
      "     ┌───┐      │        │U1(5.1258)       ├───┤     └────┬─┬─────┘ ║  ║ └╥┘\n",
      "q_3: ┤ X ├──────■────────■─────────────────┤ Z ├──────────┤M├───────╫──╫──╫─\n",
      "     └───┘                                 └───┘          └╥┘       ║  ║  ║ \n",
      "c: 4/══════════════════════════════════════════════════════╩════════╩══╩══╩═\n",
      "                                                           3        0  1  2 \n"
     ]
    }
   ],
   "source": [
    "# Create List of random circuits (3)\n",
    "circuits = [\n",
    "    random_circuit(2, 2, measure=True),\n",
    "    random_circuit(3, 3, measure=True),\n",
    "    random_circuit(4, 4, measure=True),\n",
    "]\n",
    "for c in circuits:\n",
    "    print(c)"
   ]
  },
  {
   "cell_type": "code",
   "execution_count": 11,
   "id": "2c5ce082",
   "metadata": {},
   "outputs": [
    {
     "name": "stdout",
     "output_type": "stream",
     "text": [
      "[ResourceEstimate(num_single_qubit_gates=4, num_two_qubit_gates=1, depth=3), ResourceEstimate(num_single_qubit_gates=8, num_two_qubit_gates=2, depth=4), ResourceEstimate(num_single_qubit_gates=12, num_two_qubit_gates=1, depth=5)]\n"
     ]
    }
   ],
   "source": [
    "resource_estimates = superstaq.resource_estimate(circuits, \"neutral_atom_qpu\")\n",
    "print(resource_estimates)"
   ]
  },
  {
   "cell_type": "code",
   "execution_count": null,
   "id": "bbbd08f5",
   "metadata": {},
   "outputs": [],
   "source": []
  }
 ],
 "metadata": {
  "kernelspec": {
   "display_name": "Python 3 (ipykernel)",
   "language": "python",
   "name": "python3"
  },
  "language_info": {
   "codemirror_mode": {
    "name": "ipython",
    "version": 3
   },
   "file_extension": ".py",
   "mimetype": "text/x-python",
   "name": "python",
   "nbconvert_exporter": "python",
   "pygments_lexer": "ipython3",
   "version": "3.8.10"
  }
 },
 "nbformat": 4,
 "nbformat_minor": 5
}
