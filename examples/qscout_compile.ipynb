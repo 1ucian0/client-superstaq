{
 "cells": [
  {
   "cell_type": "code",
   "execution_count": 1,
   "id": "c01de181-761d-428e-b0a2-f038d12cdb84",
   "metadata": {},
   "outputs": [],
   "source": [
    "import qiskit\n",
    "import qiskit_superstaq"
   ]
  },
  {
   "cell_type": "code",
   "execution_count": 2,
   "id": "b38e6a2c-36fc-426c-a6e0-3f5167900e54",
   "metadata": {},
   "outputs": [],
   "source": [
    "provider = qiskit_superstaq.superstaq_provider.SuperstaQProvider(access_token=\"insert-token-here\")"
   ]
  },
  {
   "cell_type": "markdown",
   "id": "72d7ac85-84b4-4feb-8ecf-0af31ddf5f83",
   "metadata": {
    "tags": []
   },
   "source": [
    "## Single circuit compilation"
   ]
  },
  {
   "cell_type": "code",
   "execution_count": 3,
   "id": "7c88500b-8c09-43d3-8b16-0078a95a551d",
   "metadata": {},
   "outputs": [
    {
     "data": {
      "text/html": [
       "<pre style=\"word-wrap: normal;white-space: pre;background: #fff0;line-height: 1.1;font-family: &quot;Courier New&quot;,Courier,monospace\">     ┌───┐\n",
       "q_0: ┤ H ├\n",
       "     └───┘</pre>"
      ],
      "text/plain": [
       "     ┌───┐\n",
       "q_0: ┤ H ├\n",
       "     └───┘"
      ]
     },
     "execution_count": 3,
     "metadata": {},
     "output_type": "execute_result"
    }
   ],
   "source": [
    "circuit1 = qiskit.QuantumCircuit(1)\n",
    "\n",
    "circuit1.h(0)\n",
    "circuit1.draw(fold=-1)"
   ]
  },
  {
   "cell_type": "code",
   "execution_count": 4,
   "id": "8b259905-2984-4f4a-88d4-d767581685b4",
   "metadata": {},
   "outputs": [],
   "source": [
    "compiler_output = provider.qscout_compile(circuit1)"
   ]
  },
  {
   "cell_type": "code",
   "execution_count": 5,
   "id": "b01be319-68f3-4aed-b9b4-4d6b10b391bc",
   "metadata": {},
   "outputs": [
    {
     "name": "stdout",
     "output_type": "stream",
     "text": [
      "     ┌──────────┐┌────────┐\n",
      "q_0: ┤ U2(-π,π) ├┤ Rz(-π) ├\n",
      "     └──────────┘└────────┘\n"
     ]
    }
   ],
   "source": [
    "print(compiler_output.circuit)"
   ]
  },
  {
   "cell_type": "code",
   "execution_count": 6,
   "id": "e9b95396-d8f7-4b4a-b38d-676dad7562e9",
   "metadata": {},
   "outputs": [
    {
     "name": "stdout",
     "output_type": "stream",
     "text": [
      "register allqubits[1]\n",
      "\n",
      "prepare_all\n",
      "R allqubits[0] -1.5707963267948966 1.5707963267948966\n",
      "Rz allqubits[0] -3.141592653589793\n",
      "measure_all\n",
      "\n"
     ]
    }
   ],
   "source": [
    "print(compiler_output.jaqal_programs)"
   ]
  },
  {
   "cell_type": "markdown",
   "id": "441a7232-a617-4f35-9fbb-66bcbe8abfec",
   "metadata": {},
   "source": [
    "## Multiple circuit compilation"
   ]
  },
  {
   "cell_type": "code",
   "execution_count": 7,
   "id": "6e6b56e6-92d1-4b3d-b8da-dee099286091",
   "metadata": {},
   "outputs": [
    {
     "data": {
      "text/html": [
       "<pre style=\"word-wrap: normal;white-space: pre;background: #fff0;line-height: 1.1;font-family: &quot;Courier New&quot;,Courier,monospace\">          \n",
       "q_0: ─────\n",
       "          \n",
       "q_1: ─────\n",
       "          \n",
       "q_2: ─────\n",
       "          \n",
       "q_3: ─────\n",
       "          \n",
       "q_4: ──X──\n",
       "       │  \n",
       "q_5: ──X──\n",
       "     ┌───┐\n",
       "q_6: ┤ H ├\n",
       "     └───┘\n",
       "q_7: ─────\n",
       "          </pre>"
      ],
      "text/plain": [
       "          \n",
       "q_0: ─────\n",
       "          \n",
       "q_1: ─────\n",
       "          \n",
       "q_2: ─────\n",
       "          \n",
       "q_3: ─────\n",
       "          \n",
       "q_4: ──X──\n",
       "       │  \n",
       "q_5: ──X──\n",
       "     ┌───┐\n",
       "q_6: ┤ H ├\n",
       "     └───┘\n",
       "q_7: ─────\n",
       "          "
      ]
     },
     "execution_count": 7,
     "metadata": {},
     "output_type": "execute_result"
    }
   ],
   "source": [
    "circuit2 = qiskit.QuantumCircuit(8)\n",
    "circuit2.swap(4, 5)\n",
    "circuit2.h(6)\n",
    "circuit2.draw(fold=-1)"
   ]
  },
  {
   "cell_type": "code",
   "execution_count": 8,
   "id": "5d3993fd-83f1-42e9-b1e0-f4e553765682",
   "metadata": {},
   "outputs": [],
   "source": [
    "compiler_output = provider.qscout_compile([circuit1, circuit2])"
   ]
  },
  {
   "cell_type": "code",
   "execution_count": 9,
   "id": "d7bdb8fb-a0d0-4fae-932a-f2fc51848f4f",
   "metadata": {},
   "outputs": [
    {
     "name": "stdout",
     "output_type": "stream",
     "text": [
      "     ┌──────────┐┌────────┐\n",
      "q_0: ┤ U2(-π,π) ├┤ Rz(-π) ├\n",
      "     └──────────┘└────────┘\n",
      "\n",
      "                                                                             »\n",
      "q_0: ────────────────────────────────────────────────────────────────────────»\n",
      "                                                                             »\n",
      "q_1: ────────────────────────────────────────────────────────────────────────»\n",
      "                                                                             »\n",
      "q_2: ────────────────────────────────────────────────────────────────────────»\n",
      "                                                                             »\n",
      "q_3: ────────────────────────────────────────────────────────────────────────»\n",
      "       ┌─────┐    ┌──────────────────┐┌────┐      ┌───────┐ ┌───┐            »\n",
      "q_4: ──┤ Sdg ├────┤ U3(π/2,π/2,3π/2) ├┤ √X ├──■───┤ Rx(0) ├─┤ X ├────────────»\n",
      "      ┌┴─────┴─┐ ┌┴──────────────────┤└────┘┌─┴─┐┌┴───────┴┐└─┬─┘┌──────────┐»\n",
      "q_5: ─┤ Rz(-π) ├─┤ U3(π/2,3π/2,3π/2) ├──────┤ X ├┤ Ry(π/2) ├──■──┤ Rx(-π/2) ├»\n",
      "     ┌┴────────┴┐└─────┬────────┬────┘      └───┘└─────────┘     └──────────┘»\n",
      "q_6: ┤ U2(-π,π) ├──────┤ Rz(-π) ├────────────────────────────────────────────»\n",
      "     └──────────┘      └────────┘                                            »\n",
      "«                                                                          »\n",
      "«q_0: ─────────────────────────────────────────────────────────────────────»\n",
      "«                                                                          »\n",
      "«q_1: ─────────────────────────────────────────────────────────────────────»\n",
      "«                                                                          »\n",
      "«q_2: ─────────────────────────────────────────────────────────────────────»\n",
      "«                                                                          »\n",
      "«q_3: ─────────────────────────────────────────────────────────────────────»\n",
      "«               ┌──────────────────┐┌─────┐ ┌──────────────────┐┌────┐     »\n",
      "«q_4: ───────■──┤ U3(π/2,π/2,3π/2) ├┤ Sdg ├─┤ U3(π/2,π/2,3π/2) ├┤ √X ├──■──»\n",
      "«     ┌───┐┌─┴─┐├─────────────────┬┘├─────┤┌┴──────────────────┤└────┘┌─┴─┐»\n",
      "«q_5: ┤ S ├┤ X ├┤ U3(π/2,π/2,π/2) ├─┤ Sdg ├┤ U3(π/2,3π/2,3π/2) ├──────┤ X ├»\n",
      "«     └───┘└───┘└─────────────────┘ └─────┘└───────────────────┘      └───┘»\n",
      "«q_6: ─────────────────────────────────────────────────────────────────────»\n",
      "«                                                                          »\n",
      "«                                                               »\n",
      "«q_0: ──────────────────────────────────────────────────────────»\n",
      "«                                                               »\n",
      "«q_1: ──────────────────────────────────────────────────────────»\n",
      "«                                                               »\n",
      "«q_2: ──────────────────────────────────────────────────────────»\n",
      "«                                                               »\n",
      "«q_3: ──────────────────────────────────────────────────────────»\n",
      "«      ┌───────┐ ┌───┐                      ┌──────────────────┐»\n",
      "«q_4: ─┤ Rx(0) ├─┤ X ├───────────────────■──┤ U3(π/2,π/2,3π/2) ├»\n",
      "«     ┌┴───────┴┐└─┬─┘┌──────────┐┌───┐┌─┴─┐├─────────────────┬┘»\n",
      "«q_5: ┤ Ry(π/2) ├──■──┤ Rx(-π/2) ├┤ S ├┤ X ├┤ U3(π/2,π/2,π/2) ├─»\n",
      "«     └─────────┘     └──────────┘└───┘└───┘└─────────────────┘ »\n",
      "«q_6: ──────────────────────────────────────────────────────────»\n",
      "«                                                               »\n",
      "«                                                                          »\n",
      "«q_0: ─────────────────────────────────────────────────────────────────────»\n",
      "«                                                                          »\n",
      "«q_1: ─────────────────────────────────────────────────────────────────────»\n",
      "«                                                                          »\n",
      "«q_2: ─────────────────────────────────────────────────────────────────────»\n",
      "«                                                                          »\n",
      "«q_3: ─────────────────────────────────────────────────────────────────────»\n",
      "«     ┌──────────────┐┌───┐ ┌──────────────────┐┌────┐      ┌───────┐ ┌───┐»\n",
      "«q_4: ┤ U2(-π/2,π/2) ├┤ S ├─┤ U3(π/2,π/2,3π/2) ├┤ √X ├──■───┤ Rx(0) ├─┤ X ├»\n",
      "«     ├──────────────┤├───┤┌┴──────────────────┤└────┘┌─┴─┐┌┴───────┴┐└─┬─┘»\n",
      "«q_5: ┤ U2(-π/2,π/2) ├┤ S ├┤ U3(π/2,3π/2,3π/2) ├──────┤ X ├┤ Ry(π/2) ├──■──»\n",
      "«     └──────────────┘└───┘└───────────────────┘      └───┘└─────────┘     »\n",
      "«q_6: ─────────────────────────────────────────────────────────────────────»\n",
      "«                                                                          »\n",
      "«                                                                     \n",
      "«q_0: ────────────────────────────────────────────────────────────────\n",
      "«                                                                     \n",
      "«q_1: ────────────────────────────────────────────────────────────────\n",
      "«                                                                     \n",
      "«q_2: ────────────────────────────────────────────────────────────────\n",
      "«                                                                     \n",
      "«q_3: ────────────────────────────────────────────────────────────────\n",
      "«                           ┌──────────────────┐┌──────────┐┌────────┐\n",
      "«q_4: ───────────────────■──┤ U3(π/2,π/2,3π/2) ├┤ U2(-π,π) ├┤ Rz(-π) ├\n",
      "«     ┌──────────┐┌───┐┌─┴─┐├─────────────────┬┘├──────────┤└─┬───┬──┘\n",
      "«q_5: ┤ Rx(-π/2) ├┤ S ├┤ X ├┤ U3(π/2,π/2,π/2) ├─┤ U2(-π,π) ├──┤ S ├───\n",
      "«     └──────────┘└───┘└───┘└─────────────────┘ └──────────┘  └───┘   \n",
      "«q_6: ────────────────────────────────────────────────────────────────\n",
      "«                                                                     \n"
     ]
    }
   ],
   "source": [
    "print(compiler_output.circuits[0])\n",
    "print()\n",
    "print(compiler_output.circuits[1])"
   ]
  },
  {
   "cell_type": "code",
   "execution_count": 10,
   "id": "0909e370-a371-46d0-a860-f4b27c60af89",
   "metadata": {},
   "outputs": [
    {
     "name": "stdout",
     "output_type": "stream",
     "text": [
      "register allqubits[1]\n",
      "\n",
      "prepare_all\n",
      "R allqubits[0] -1.5707963267948966 1.5707963267948966\n",
      "Rz allqubits[0] -3.141592653589793\n",
      "measure_all\n",
      "\n"
     ]
    }
   ],
   "source": [
    "print(compiler_output.jaqal_programs[0])"
   ]
  },
  {
   "cell_type": "code",
   "execution_count": 11,
   "id": "7c23b881-177f-4960-ad6f-c15bfe5aaf35",
   "metadata": {},
   "outputs": [
    {
     "name": "stdout",
     "output_type": "stream",
     "text": [
      "register allqubits[7]\n",
      "\n",
      "prepare_all\n",
      "<\n",
      "\tRz allqubits[5] -3.141592653589793\n",
      "\tRz allqubits[4] -1.5707963267948966\n",
      "\tR allqubits[6] -1.5707963267948966 1.5707963267948966\n",
      ">\n",
      "<\n",
      "\tMS allqubits[4] allqubits[5] 0 -1.5707963267948966\n",
      "\tRz allqubits[6] -3.141592653589793\n",
      ">\n",
      "<\n",
      "\tRz allqubits[5] -1.5707963267948966\n",
      "\tRz allqubits[4] -1.5707963267948966\n",
      ">\n",
      "MS allqubits[4] allqubits[5] 0 -1.5707963267948966\n",
      "<\n",
      "\tR allqubits[4] 0.0 1.5707963267948966\n",
      "\tR allqubits[5] 0.0 1.5707963267948966\n",
      ">\n",
      "<\n",
      "\tRz allqubits[4] 1.5707963267948966\n",
      "\tRz allqubits[5] 1.5707963267948966\n",
      ">\n",
      "MS allqubits[4] allqubits[5] 0 -1.5707963267948966\n",
      "<\n",
      "\tR allqubits[4] -1.5707963267948966 1.5707963267948966\n",
      "\tR allqubits[5] -1.5707963267948966 1.5707963267948966\n",
      ">\n",
      "<\n",
      "\tRz allqubits[4] -3.141592653589793\n",
      "\tRz allqubits[5] 1.5707963267948966\n",
      ">\n",
      "measure_all\n",
      "\n"
     ]
    }
   ],
   "source": [
    "print(compiler_output.jaqal_programs[1])"
   ]
  }
 ],
 "metadata": {
  "kernelspec": {
   "display_name": "Python 3",
   "language": "python",
   "name": "python3"
  },
  "language_info": {
   "codemirror_mode": {
    "name": "ipython",
    "version": 3
   },
   "file_extension": ".py",
   "mimetype": "text/x-python",
   "name": "python",
   "nbconvert_exporter": "python",
   "pygments_lexer": "ipython3",
   "version": "3.8.5"
  }
 },
 "nbformat": 4,
 "nbformat_minor": 5
}
