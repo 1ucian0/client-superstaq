{
 "cells": [
  {
   "cell_type": "markdown",
   "id": "eb89a144",
   "metadata": {},
   "source": [
    "# Compiling and Submitting Circuits onto Hilbert via Cirq\n"
   ]
  },
  {
   "cell_type": "markdown",
   "id": "capable-bradley",
   "metadata": {},
   "source": [
    "<a target=\"_blank\" href=\"https://colab.research.google.com/github/SupertechLabs/client-superstaq/blob/main/docs/source/optimizations/cq/cq_compile_css.ipynb\">\n",
    "  <img src=\"https://colab.research.google.com/assets/colab-badge.svg\" alt=\"Open In Colab\" align=\"left\"/>\n",
    "</a>\n",
    "<a target=\"_blank\" href=\"https://mybinder.org/v2/gh/SupertechLabs/client-superstaq/HEAD?labpath=docs/source/optimizations/cq/cq_compile_css.ipynb\">\n",
    "  <img src=\"https://mybinder.org/badge_logo.svg\" alt=\"Launch Binder\" align=\"left\" style=\"margin-left: 10px;\"/>\n",
    "</a>"
   ]
  },
  {
   "cell_type": "markdown",
   "id": "49c7981a",
   "metadata": {},
   "source": [
    "This tutorial will showcase how to compile and submit a circuit onto Infleqtion's hardware, Hilbert, using the cirq-superstaq client. First, you must import the necessary packages to get started. "
   ]
  },
  {
   "cell_type": "markdown",
   "id": "cd44ef01",
   "metadata": {},
   "source": [
    "## Import Requirements"
   ]
  },
  {
   "cell_type": "code",
   "execution_count": 15,
   "id": "aff4bd87",
   "metadata": {},
   "outputs": [],
   "source": [
    "import os\n",
    "import json\n",
    "\n",
    "try:\n",
    "    import cirq\n",
    "    import cirq_superstaq as css\n",
    "    \n",
    "except ImportError:\n",
    "    print(\"installing cirq-superstaq...\")\n",
    "    !pip install --quiet cirq-superstaq\n",
    "    import cirq\n",
    "    import cirq_superstaq as css\n",
    "    \n",
    "    print(\"installed cirq-superstaq\")"
   ]
  },
  {
   "cell_type": "markdown",
   "id": "ae0dfcb6",
   "metadata": {},
   "source": [
    "Next, we must instantiate our provider in cirq-superstaq, using a SuperstaQ token. You can get your SuperstaQ token from https://superstaq.super.tech. "
   ]
  },
  {
   "cell_type": "code",
   "execution_count": 45,
   "id": "4464f34f",
   "metadata": {},
   "outputs": [],
   "source": [
    "token = \"Insert superstaq token that you received from https://superstaq.super.tech\"\n",
    "service = css.Service(token)"
   ]
  },
  {
   "cell_type": "markdown",
   "id": "415812a3",
   "metadata": {},
   "source": [
    "## Create a Circuit"
   ]
  },
  {
   "cell_type": "code",
   "execution_count": 46,
   "id": "9521d540",
   "metadata": {
    "scrolled": true
   },
   "outputs": [
    {
     "name": "stdout",
     "output_type": "stream",
     "text": [
      "0: ───H───@───M───\n",
      "          │\n",
      "1: ───────X───────\n"
     ]
    }
   ],
   "source": [
    "qubits = cirq.LineQubit.range(2)\n",
    "circuit1 = cirq.Circuit(cirq.H(qubits[0]), cirq.CNOT(qubits[0], qubits[1]), cirq.measure(qubits[0]))\n",
    "print(circuit1)"
   ]
  },
  {
   "cell_type": "markdown",
   "id": "b7812e22",
   "metadata": {},
   "source": [
    "## Single Circuit Compilation"
   ]
  },
  {
   "cell_type": "code",
   "execution_count": 47,
   "id": "b9149284",
   "metadata": {
    "scrolled": false
   },
   "outputs": [
    {
     "name": "stderr",
     "output_type": "stream",
     "text": [
      "/home/salahedeen/PycharmProjects/my_project/new_venv/lib/python3.10/site-packages/urllib3/connectionpool.py:1095: InsecureRequestWarning: Unverified HTTPS request is being made to host '127.0.0.1'. Adding certificate verification is strongly advised. See: https://urllib3.readthedocs.io/en/latest/advanced-usage.html#tls-warnings\n",
      "  warnings.warn(\n"
     ]
    },
    {
     "ename": "SuperstaQException",
     "evalue": "Status code: 404, Message: 'Non-retriable error making request to SuperstaQ API, The requested URL was not found on the server. If you entered the URL manually please check your spelling and try again. You have requested this URI [/v0.2.0/compile] but did you mean /v0.2.0/cq_compile or /v0.2.0/aqt_compile or /v0.2.0/ibmq_compile ?'",
     "output_type": "error",
     "traceback": [
      "\u001b[0;31m---------------------------------------------------------------------------\u001b[0m",
      "\u001b[0;31mSuperstaQException\u001b[0m                        Traceback (most recent call last)",
      "Cell \u001b[0;32mIn[47], line 1\u001b[0m\n\u001b[0;32m----> 1\u001b[0m compiler_output \u001b[38;5;241m=\u001b[39m \u001b[43mservice\u001b[49m\u001b[38;5;241;43m.\u001b[39;49m\u001b[43mcq_compile\u001b[49m\u001b[43m(\u001b[49m\u001b[43mcircuit1\u001b[49m\u001b[43m)\u001b[49m\n",
      "File \u001b[0;32m~/PycharmProjects/my_project/new_venv/lib/python3.10/site-packages/cirq_superstaq/service.py:606\u001b[0m, in \u001b[0;36mService.cq_compile\u001b[0;34m(self, circuits, target, **kwargs)\u001b[0m\n\u001b[1;32m    590\u001b[0m \u001b[38;5;28;01mdef\u001b[39;00m \u001b[38;5;21mcq_compile\u001b[39m(\n\u001b[1;32m    591\u001b[0m     \u001b[38;5;28mself\u001b[39m,\n\u001b[1;32m    592\u001b[0m     circuits: Union[cirq\u001b[38;5;241m.\u001b[39mCircuit, List[cirq\u001b[38;5;241m.\u001b[39mCircuit]],\n\u001b[1;32m    593\u001b[0m     target: \u001b[38;5;28mstr\u001b[39m \u001b[38;5;241m=\u001b[39m \u001b[38;5;124m\"\u001b[39m\u001b[38;5;124mcq_hilbert_qpu\u001b[39m\u001b[38;5;124m\"\u001b[39m,\n\u001b[1;32m    594\u001b[0m     \u001b[38;5;241m*\u001b[39m\u001b[38;5;241m*\u001b[39mkwargs: Any,\n\u001b[1;32m    595\u001b[0m ) \u001b[38;5;241m-\u001b[39m\u001b[38;5;241m>\u001b[39m css\u001b[38;5;241m.\u001b[39mcompiler_output\u001b[38;5;241m.\u001b[39mCompilerOutput:\n\u001b[1;32m    596\u001b[0m \u001b[38;5;250m    \u001b[39m\u001b[38;5;124;03m\"\"\"Compiles and optimizes the given circuit(s) to the target CQ device.\u001b[39;00m\n\u001b[1;32m    597\u001b[0m \n\u001b[1;32m    598\u001b[0m \u001b[38;5;124;03m    Args:\u001b[39;00m\n\u001b[0;32m   (...)\u001b[0m\n\u001b[1;32m    604\u001b[0m \u001b[38;5;124;03m        Object whose .circuit(s) attribute contains the compiled `cirq.Circuit`(s).\u001b[39;00m\n\u001b[1;32m    605\u001b[0m \u001b[38;5;124;03m    \"\"\"\u001b[39;00m\n\u001b[0;32m--> 606\u001b[0m     \u001b[38;5;28;01mreturn\u001b[39;00m \u001b[38;5;28;43mself\u001b[39;49m\u001b[38;5;241;43m.\u001b[39;49m\u001b[43mcompile\u001b[49m\u001b[43m(\u001b[49m\u001b[43mcircuits\u001b[49m\u001b[43m,\u001b[49m\u001b[43m \u001b[49m\u001b[43mtarget\u001b[49m\u001b[38;5;241;43m=\u001b[39;49m\u001b[43mtarget\u001b[49m\u001b[43m,\u001b[49m\u001b[43m \u001b[49m\u001b[38;5;241;43m*\u001b[39;49m\u001b[38;5;241;43m*\u001b[39;49m\u001b[43mkwargs\u001b[49m\u001b[43m)\u001b[49m\n",
      "File \u001b[0;32m~/PycharmProjects/my_project/new_venv/lib/python3.10/site-packages/cirq_superstaq/service.py:663\u001b[0m, in \u001b[0;36mService.compile\u001b[0;34m(self, circuits, target, **kwargs)\u001b[0m\n\u001b[1;32m    655\u001b[0m target \u001b[38;5;241m=\u001b[39m \u001b[38;5;28mself\u001b[39m\u001b[38;5;241m.\u001b[39m_resolve_target(target)\n\u001b[1;32m    657\u001b[0m request_json \u001b[38;5;241m=\u001b[39m {\n\u001b[1;32m    658\u001b[0m     \u001b[38;5;124m\"\u001b[39m\u001b[38;5;124mcirq_circuits\u001b[39m\u001b[38;5;124m\"\u001b[39m: serialized_circuits,\n\u001b[1;32m    659\u001b[0m     \u001b[38;5;124m\"\u001b[39m\u001b[38;5;124mtarget\u001b[39m\u001b[38;5;124m\"\u001b[39m: target,\n\u001b[1;32m    660\u001b[0m     \u001b[38;5;124m\"\u001b[39m\u001b[38;5;124moptions\u001b[39m\u001b[38;5;124m\"\u001b[39m: cirq\u001b[38;5;241m.\u001b[39mto_json(kwargs),\n\u001b[1;32m    661\u001b[0m }\n\u001b[0;32m--> 663\u001b[0m json_dict \u001b[38;5;241m=\u001b[39m \u001b[38;5;28;43mself\u001b[39;49m\u001b[38;5;241;43m.\u001b[39;49m\u001b[43m_client\u001b[49m\u001b[38;5;241;43m.\u001b[39;49m\u001b[43mcompile\u001b[49m\u001b[43m(\u001b[49m\u001b[43mrequest_json\u001b[49m\u001b[43m)\u001b[49m\n\u001b[1;32m    665\u001b[0m \u001b[38;5;28;01mreturn\u001b[39;00m css\u001b[38;5;241m.\u001b[39mcompiler_output\u001b[38;5;241m.\u001b[39mread_json(json_dict, circuits_is_list)\n",
      "File \u001b[0;32m~/PycharmProjects/my_project/new_venv/lib/python3.10/site-packages/general_superstaq/superstaq_client.py:275\u001b[0m, in \u001b[0;36m_SuperstaQClient.compile\u001b[0;34m(self, json_dict)\u001b[0m\n\u001b[1;32m    273\u001b[0m \u001b[38;5;28;01mdef\u001b[39;00m \u001b[38;5;21mcompile\u001b[39m(\u001b[38;5;28mself\u001b[39m, json_dict: Dict[\u001b[38;5;28mstr\u001b[39m, \u001b[38;5;28mstr\u001b[39m]) \u001b[38;5;241m-\u001b[39m\u001b[38;5;241m>\u001b[39m Dict[\u001b[38;5;28mstr\u001b[39m, \u001b[38;5;28mstr\u001b[39m]:\n\u001b[1;32m    274\u001b[0m \u001b[38;5;250m    \u001b[39m\u001b[38;5;124;03m\"\"\"Makes a POST request to SuperstaQ API to compile a list of circuits.\"\"\"\u001b[39;00m\n\u001b[0;32m--> 275\u001b[0m     \u001b[38;5;28;01mreturn\u001b[39;00m \u001b[38;5;28;43mself\u001b[39;49m\u001b[38;5;241;43m.\u001b[39;49m\u001b[43mpost_request\u001b[49m\u001b[43m(\u001b[49m\u001b[38;5;124;43m\"\u001b[39;49m\u001b[38;5;124;43m/compile\u001b[39;49m\u001b[38;5;124;43m\"\u001b[39;49m\u001b[43m,\u001b[49m\u001b[43m \u001b[49m\u001b[43mjson_dict\u001b[49m\u001b[43m)\u001b[49m\n",
      "File \u001b[0;32m~/PycharmProjects/my_project/new_venv/lib/python3.10/site-packages/general_superstaq/superstaq_client.py:142\u001b[0m, in \u001b[0;36m_SuperstaQClient.post_request\u001b[0;34m(self, endpoint, json_dict)\u001b[0m\n\u001b[1;32m    134\u001b[0m \u001b[38;5;28;01mdef\u001b[39;00m \u001b[38;5;21mrequest\u001b[39m() \u001b[38;5;241m-\u001b[39m\u001b[38;5;241m>\u001b[39m requests\u001b[38;5;241m.\u001b[39mResponse:\n\u001b[1;32m    135\u001b[0m     \u001b[38;5;28;01mreturn\u001b[39;00m requests\u001b[38;5;241m.\u001b[39mpost(\n\u001b[1;32m    136\u001b[0m         \u001b[38;5;124mf\u001b[39m\u001b[38;5;124m\"\u001b[39m\u001b[38;5;132;01m{\u001b[39;00m\u001b[38;5;28mself\u001b[39m\u001b[38;5;241m.\u001b[39murl\u001b[38;5;132;01m}\u001b[39;00m\u001b[38;5;132;01m{\u001b[39;00mendpoint\u001b[38;5;132;01m}\u001b[39;00m\u001b[38;5;124m\"\u001b[39m,\n\u001b[1;32m    137\u001b[0m         json\u001b[38;5;241m=\u001b[39mjson_dict,\n\u001b[1;32m    138\u001b[0m         headers\u001b[38;5;241m=\u001b[39m\u001b[38;5;28mself\u001b[39m\u001b[38;5;241m.\u001b[39mheaders,\n\u001b[1;32m    139\u001b[0m         verify\u001b[38;5;241m=\u001b[39m\u001b[38;5;28mself\u001b[39m\u001b[38;5;241m.\u001b[39mverify_https,\n\u001b[1;32m    140\u001b[0m     )\n\u001b[0;32m--> 142\u001b[0m \u001b[38;5;28;01mreturn\u001b[39;00m \u001b[38;5;28;43mself\u001b[39;49m\u001b[38;5;241;43m.\u001b[39;49m\u001b[43m_make_request\u001b[49m\u001b[43m(\u001b[49m\u001b[43mrequest\u001b[49m\u001b[43m)\u001b[49m\u001b[38;5;241m.\u001b[39mjson()\n",
      "File \u001b[0;32m~/PycharmProjects/my_project/new_venv/lib/python3.10/site-packages/general_superstaq/superstaq_client.py:444\u001b[0m, in \u001b[0;36m_SuperstaQClient._make_request\u001b[0;34m(self, request)\u001b[0m\n\u001b[1;32m    441\u001b[0m     \u001b[38;5;28;01mif\u001b[39;00m response\u001b[38;5;241m.\u001b[39mok:\n\u001b[1;32m    442\u001b[0m         \u001b[38;5;28;01mreturn\u001b[39;00m response\n\u001b[0;32m--> 444\u001b[0m     \u001b[38;5;28;43mself\u001b[39;49m\u001b[38;5;241;43m.\u001b[39;49m\u001b[43m_handle_status_codes\u001b[49m\u001b[43m(\u001b[49m\u001b[43mresponse\u001b[49m\u001b[43m)\u001b[49m\n\u001b[1;32m    445\u001b[0m     message \u001b[38;5;241m=\u001b[39m response\u001b[38;5;241m.\u001b[39mreason\n\u001b[1;32m    447\u001b[0m \u001b[38;5;66;03m# Fallthrough should retry.\u001b[39;00m\n",
      "File \u001b[0;32m~/PycharmProjects/my_project/new_venv/lib/python3.10/site-packages/general_superstaq/superstaq_client.py:404\u001b[0m, in \u001b[0;36m_SuperstaQClient._handle_status_codes\u001b[0;34m(self, response)\u001b[0m\n\u001b[1;32m    402\u001b[0m \u001b[38;5;28;01melse\u001b[39;00m:\n\u001b[1;32m    403\u001b[0m     message \u001b[38;5;241m=\u001b[39m \u001b[38;5;28mstr\u001b[39m(response\u001b[38;5;241m.\u001b[39mtext)\n\u001b[0;32m--> 404\u001b[0m \u001b[38;5;28;01mraise\u001b[39;00m gss\u001b[38;5;241m.\u001b[39mSuperstaQException(\n\u001b[1;32m    405\u001b[0m     \u001b[38;5;124mf\u001b[39m\u001b[38;5;124m\"\u001b[39m\u001b[38;5;124mNon-retriable error making request to SuperstaQ API, \u001b[39m\u001b[38;5;132;01m{\u001b[39;00mmessage\u001b[38;5;132;01m}\u001b[39;00m\u001b[38;5;124m\"\u001b[39m,\n\u001b[1;32m    406\u001b[0m     response\u001b[38;5;241m.\u001b[39mstatus_code,\n\u001b[1;32m    407\u001b[0m )\n",
      "\u001b[0;31mSuperstaQException\u001b[0m: Status code: 404, Message: 'Non-retriable error making request to SuperstaQ API, The requested URL was not found on the server. If you entered the URL manually please check your spelling and try again. You have requested this URI [/v0.2.0/compile] but did you mean /v0.2.0/cq_compile or /v0.2.0/aqt_compile or /v0.2.0/ibmq_compile ?'"
     ]
    }
   ],
   "source": [
    "compiler_output = service.cq_compile(circuit1)"
   ]
  },
  {
   "cell_type": "code",
   "execution_count": 48,
   "id": "92f3d368",
   "metadata": {},
   "outputs": [
    {
     "name": "stdout",
     "output_type": "stream",
     "text": [
      "(0, 0): ───RGate(0.5π, -0.5π)───@───RGate(-0.25π, -0.5π)───────────RGate(0.25π, -0.5π)───M('q(0)')───────────\n",
      "           │                    │   │                              │\n",
      "(0, 1): ───#2───────────────────@───#2─────────────────────Rz(π)───#2────────────────────────────────Rz(π)───\n"
     ]
    }
   ],
   "source": [
    "print(compiler_output.circuit)"
   ]
  },
  {
   "cell_type": "markdown",
   "id": "265df713",
   "metadata": {},
   "source": [
    "## Enter Hilbert credentials"
   ]
  },
  {
   "cell_type": "markdown",
   "id": "0887a77e",
   "metadata": {},
   "source": [
    "To get your ColdQuanta credentials onto your local machine, run this:"
   ]
  },
  {
   "cell_type": "code",
   "execution_count": 53,
   "id": "31bc74ef",
   "metadata": {},
   "outputs": [],
   "source": [
    "# uncomment command below to get auth token, ! will run cmd line\n",
    "# !python -m coldquanta.qc_common_api.cq_authorize"
   ]
  },
  {
   "cell_type": "markdown",
   "id": "133aa6b1",
   "metadata": {},
   "source": [
    "To make sure your credentials have been saved to your machine, run the code below:"
   ]
  },
  {
   "cell_type": "code",
   "execution_count": 52,
   "id": "91f89bdf",
   "metadata": {},
   "outputs": [],
   "source": [
    "!cat ~/.coldquanta/cq_auth.json"
   ]
  },
  {
   "cell_type": "markdown",
   "id": "1e3a981e",
   "metadata": {},
   "source": [
    "Now load in your Hilbert credentials:"
   ]
  },
  {
   "cell_type": "code",
   "execution_count": 50,
   "id": "240357ae",
   "metadata": {},
   "outputs": [],
   "source": [
    "with open(os.path.expanduser(\"~/.coldquanta/cq_auth.json\"), \"r\") as file:\n",
    "    data = json.load(file)\n",
    "options = {\"cq_token\": data}"
   ]
  },
  {
   "cell_type": "markdown",
   "id": "04ad6645",
   "metadata": {},
   "source": [
    "## Single Circuit Submission"
   ]
  },
  {
   "cell_type": "markdown",
   "id": "ac35a589",
   "metadata": {},
   "source": [
    "The code below will submitt he circuit to the noiseless Hilbert simulator. If you would like to run on Hilbert, change the \"target\" argument in job_css from \"cq_hilbert_simulator\" to \"cq_hilbert_qpu\". It is recommended to first submit to the simulator for testing to ensure your code runs before submitting to Hilbert. "
   ]
  },
  {
   "cell_type": "code",
   "execution_count": 51,
   "id": "dcadf503",
   "metadata": {},
   "outputs": [
    {
     "name": "stderr",
     "output_type": "stream",
     "text": [
      "/home/salahedeen/PycharmProjects/my_project/new_venv/lib/python3.10/site-packages/urllib3/connectionpool.py:1095: InsecureRequestWarning: Unverified HTTPS request is being made to host '127.0.0.1'. Adding certificate verification is strongly advised. See: https://urllib3.readthedocs.io/en/latest/advanced-usage.html#tls-warnings\n",
      "  warnings.warn(\n"
     ]
    },
    {
     "ename": "SuperstaQException",
     "evalue": "Status code: 400, Message: 'Non-retriable error making request to SuperstaQ API, Your CQ token is invalid. If you are using SuperstaQ without the clients, make sure that the project and org id you are setting are correct. If you're accessing SuperstaQ via the open source clients, your account is not associated with the HilbertEndToEnd project. Contact info@super.tech to be added to this project.'",
     "output_type": "error",
     "traceback": [
      "\u001b[0;31m---------------------------------------------------------------------------\u001b[0m",
      "\u001b[0;31mSuperstaQException\u001b[0m                        Traceback (most recent call last)",
      "Cell \u001b[0;32mIn[51], line 1\u001b[0m\n\u001b[0;32m----> 1\u001b[0m job_css \u001b[38;5;241m=\u001b[39m \u001b[43mservice\u001b[49m\u001b[38;5;241;43m.\u001b[39;49m\u001b[43mcreate_job\u001b[49m\u001b[43m(\u001b[49m\n\u001b[1;32m      2\u001b[0m \u001b[43m    \u001b[49m\u001b[43mcircuit\u001b[49m\u001b[38;5;241;43m=\u001b[39;49m\u001b[43mcircuit1\u001b[49m\u001b[43m,\u001b[49m\u001b[43m \u001b[49m\u001b[43mrepetitions\u001b[49m\u001b[38;5;241;43m=\u001b[39;49m\u001b[38;5;241;43m100\u001b[39;49m\u001b[43m,\u001b[49m\u001b[43m \u001b[49m\u001b[43mtarget\u001b[49m\u001b[38;5;241;43m=\u001b[39;49m\u001b[38;5;124;43m\"\u001b[39;49m\u001b[38;5;124;43mcq_hilbert_simulator\u001b[39;49m\u001b[38;5;124;43m\"\u001b[39;49m\u001b[43m,\u001b[49m\u001b[43m \u001b[49m\u001b[43moptions\u001b[49m\u001b[38;5;241;43m=\u001b[39;49m\u001b[43moptions\u001b[49m\n\u001b[1;32m      3\u001b[0m \u001b[43m)\u001b[49m\n\u001b[1;32m      4\u001b[0m result_css \u001b[38;5;241m=\u001b[39m job_css\u001b[38;5;241m.\u001b[39mcounts()\n\u001b[1;32m      5\u001b[0m \u001b[38;5;28mprint\u001b[39m(\u001b[38;5;124mf\u001b[39m\u001b[38;5;124m\"\u001b[39m\u001b[38;5;124mCounts from cirq-superstaq submission: \u001b[39m\u001b[38;5;132;01m{\u001b[39;00mresult_css\u001b[38;5;132;01m}\u001b[39;00m\u001b[38;5;124m\"\u001b[39m)\n",
      "File \u001b[0;32m~/PycharmProjects/my_project/new_venv/lib/python3.10/site-packages/cirq_superstaq/service.py:314\u001b[0m, in \u001b[0;36mService.create_job\u001b[0;34m(self, circuit, repetitions, target, method, options)\u001b[0m\n\u001b[1;32m    310\u001b[0m serialized_circuits \u001b[38;5;241m=\u001b[39m css\u001b[38;5;241m.\u001b[39mserialization\u001b[38;5;241m.\u001b[39mserialize_circuits(circuit)\n\u001b[1;32m    312\u001b[0m target \u001b[38;5;241m=\u001b[39m \u001b[38;5;28mself\u001b[39m\u001b[38;5;241m.\u001b[39m_resolve_target(target)\n\u001b[0;32m--> 314\u001b[0m result \u001b[38;5;241m=\u001b[39m \u001b[38;5;28;43mself\u001b[39;49m\u001b[38;5;241;43m.\u001b[39;49m\u001b[43m_client\u001b[49m\u001b[38;5;241;43m.\u001b[39;49m\u001b[43mcreate_job\u001b[49m\u001b[43m(\u001b[49m\n\u001b[1;32m    315\u001b[0m \u001b[43m    \u001b[49m\u001b[43mserialized_circuits\u001b[49m\u001b[38;5;241;43m=\u001b[39;49m\u001b[43m{\u001b[49m\u001b[38;5;124;43m\"\u001b[39;49m\u001b[38;5;124;43mcirq_circuits\u001b[39;49m\u001b[38;5;124;43m\"\u001b[39;49m\u001b[43m:\u001b[49m\u001b[43m \u001b[49m\u001b[43mserialized_circuits\u001b[49m\u001b[43m}\u001b[49m\u001b[43m,\u001b[49m\n\u001b[1;32m    316\u001b[0m \u001b[43m    \u001b[49m\u001b[43mrepetitions\u001b[49m\u001b[38;5;241;43m=\u001b[39;49m\u001b[43mrepetitions\u001b[49m\u001b[43m,\u001b[49m\n\u001b[1;32m    317\u001b[0m \u001b[43m    \u001b[49m\u001b[43mtarget\u001b[49m\u001b[38;5;241;43m=\u001b[39;49m\u001b[43mtarget\u001b[49m\u001b[43m,\u001b[49m\n\u001b[1;32m    318\u001b[0m \u001b[43m    \u001b[49m\u001b[43mmethod\u001b[49m\u001b[38;5;241;43m=\u001b[39;49m\u001b[43mmethod\u001b[49m\u001b[43m,\u001b[49m\n\u001b[1;32m    319\u001b[0m \u001b[43m    \u001b[49m\u001b[43moptions\u001b[49m\u001b[38;5;241;43m=\u001b[39;49m\u001b[43moptions\u001b[49m\u001b[43m,\u001b[49m\n\u001b[1;32m    320\u001b[0m \u001b[43m\u001b[49m\u001b[43m)\u001b[49m\n\u001b[1;32m    321\u001b[0m \u001b[38;5;66;03m# The returned job does not have fully populated fields; they will be filled out by\u001b[39;00m\n\u001b[1;32m    322\u001b[0m \u001b[38;5;66;03m# when the new job's status is first queried\u001b[39;00m\n\u001b[1;32m    323\u001b[0m \u001b[38;5;28;01mreturn\u001b[39;00m \u001b[38;5;28mself\u001b[39m\u001b[38;5;241m.\u001b[39mget_job(result[\u001b[38;5;124m\"\u001b[39m\u001b[38;5;124mjob_ids\u001b[39m\u001b[38;5;124m\"\u001b[39m][\u001b[38;5;241m0\u001b[39m])\n",
      "File \u001b[0;32m~/PycharmProjects/my_project/new_venv/lib/python3.10/site-packages/general_superstaq/superstaq_client.py:184\u001b[0m, in \u001b[0;36m_SuperstaQClient.create_job\u001b[0;34m(self, serialized_circuits, repetitions, target, method, options)\u001b[0m\n\u001b[1;32m    182\u001b[0m \u001b[38;5;28;01mif\u001b[39;00m options \u001b[38;5;129;01mis\u001b[39;00m \u001b[38;5;129;01mnot\u001b[39;00m \u001b[38;5;28;01mNone\u001b[39;00m:\n\u001b[1;32m    183\u001b[0m     json_dict[\u001b[38;5;124m\"\u001b[39m\u001b[38;5;124moptions\u001b[39m\u001b[38;5;124m\"\u001b[39m] \u001b[38;5;241m=\u001b[39m json\u001b[38;5;241m.\u001b[39mdumps(options)\n\u001b[0;32m--> 184\u001b[0m \u001b[38;5;28;01mreturn\u001b[39;00m \u001b[38;5;28;43mself\u001b[39;49m\u001b[38;5;241;43m.\u001b[39;49m\u001b[43mpost_request\u001b[49m\u001b[43m(\u001b[49m\u001b[38;5;124;43m\"\u001b[39;49m\u001b[38;5;124;43m/jobs\u001b[39;49m\u001b[38;5;124;43m\"\u001b[39;49m\u001b[43m,\u001b[49m\u001b[43m \u001b[49m\u001b[43mjson_dict\u001b[49m\u001b[43m)\u001b[49m\n",
      "File \u001b[0;32m~/PycharmProjects/my_project/new_venv/lib/python3.10/site-packages/general_superstaq/superstaq_client.py:142\u001b[0m, in \u001b[0;36m_SuperstaQClient.post_request\u001b[0;34m(self, endpoint, json_dict)\u001b[0m\n\u001b[1;32m    134\u001b[0m \u001b[38;5;28;01mdef\u001b[39;00m \u001b[38;5;21mrequest\u001b[39m() \u001b[38;5;241m-\u001b[39m\u001b[38;5;241m>\u001b[39m requests\u001b[38;5;241m.\u001b[39mResponse:\n\u001b[1;32m    135\u001b[0m     \u001b[38;5;28;01mreturn\u001b[39;00m requests\u001b[38;5;241m.\u001b[39mpost(\n\u001b[1;32m    136\u001b[0m         \u001b[38;5;124mf\u001b[39m\u001b[38;5;124m\"\u001b[39m\u001b[38;5;132;01m{\u001b[39;00m\u001b[38;5;28mself\u001b[39m\u001b[38;5;241m.\u001b[39murl\u001b[38;5;132;01m}\u001b[39;00m\u001b[38;5;132;01m{\u001b[39;00mendpoint\u001b[38;5;132;01m}\u001b[39;00m\u001b[38;5;124m\"\u001b[39m,\n\u001b[1;32m    137\u001b[0m         json\u001b[38;5;241m=\u001b[39mjson_dict,\n\u001b[1;32m    138\u001b[0m         headers\u001b[38;5;241m=\u001b[39m\u001b[38;5;28mself\u001b[39m\u001b[38;5;241m.\u001b[39mheaders,\n\u001b[1;32m    139\u001b[0m         verify\u001b[38;5;241m=\u001b[39m\u001b[38;5;28mself\u001b[39m\u001b[38;5;241m.\u001b[39mverify_https,\n\u001b[1;32m    140\u001b[0m     )\n\u001b[0;32m--> 142\u001b[0m \u001b[38;5;28;01mreturn\u001b[39;00m \u001b[38;5;28;43mself\u001b[39;49m\u001b[38;5;241;43m.\u001b[39;49m\u001b[43m_make_request\u001b[49m\u001b[43m(\u001b[49m\u001b[43mrequest\u001b[49m\u001b[43m)\u001b[49m\u001b[38;5;241m.\u001b[39mjson()\n",
      "File \u001b[0;32m~/PycharmProjects/my_project/new_venv/lib/python3.10/site-packages/general_superstaq/superstaq_client.py:444\u001b[0m, in \u001b[0;36m_SuperstaQClient._make_request\u001b[0;34m(self, request)\u001b[0m\n\u001b[1;32m    441\u001b[0m     \u001b[38;5;28;01mif\u001b[39;00m response\u001b[38;5;241m.\u001b[39mok:\n\u001b[1;32m    442\u001b[0m         \u001b[38;5;28;01mreturn\u001b[39;00m response\n\u001b[0;32m--> 444\u001b[0m     \u001b[38;5;28;43mself\u001b[39;49m\u001b[38;5;241;43m.\u001b[39;49m\u001b[43m_handle_status_codes\u001b[49m\u001b[43m(\u001b[49m\u001b[43mresponse\u001b[49m\u001b[43m)\u001b[49m\n\u001b[1;32m    445\u001b[0m     message \u001b[38;5;241m=\u001b[39m response\u001b[38;5;241m.\u001b[39mreason\n\u001b[1;32m    447\u001b[0m \u001b[38;5;66;03m# Fallthrough should retry.\u001b[39;00m\n",
      "File \u001b[0;32m~/PycharmProjects/my_project/new_venv/lib/python3.10/site-packages/general_superstaq/superstaq_client.py:404\u001b[0m, in \u001b[0;36m_SuperstaQClient._handle_status_codes\u001b[0;34m(self, response)\u001b[0m\n\u001b[1;32m    402\u001b[0m \u001b[38;5;28;01melse\u001b[39;00m:\n\u001b[1;32m    403\u001b[0m     message \u001b[38;5;241m=\u001b[39m \u001b[38;5;28mstr\u001b[39m(response\u001b[38;5;241m.\u001b[39mtext)\n\u001b[0;32m--> 404\u001b[0m \u001b[38;5;28;01mraise\u001b[39;00m gss\u001b[38;5;241m.\u001b[39mSuperstaQException(\n\u001b[1;32m    405\u001b[0m     \u001b[38;5;124mf\u001b[39m\u001b[38;5;124m\"\u001b[39m\u001b[38;5;124mNon-retriable error making request to SuperstaQ API, \u001b[39m\u001b[38;5;132;01m{\u001b[39;00mmessage\u001b[38;5;132;01m}\u001b[39;00m\u001b[38;5;124m\"\u001b[39m,\n\u001b[1;32m    406\u001b[0m     response\u001b[38;5;241m.\u001b[39mstatus_code,\n\u001b[1;32m    407\u001b[0m )\n",
      "\u001b[0;31mSuperstaQException\u001b[0m: Status code: 400, Message: 'Non-retriable error making request to SuperstaQ API, Your CQ token is invalid. If you are using SuperstaQ without the clients, make sure that the project and org id you are setting are correct. If you're accessing SuperstaQ via the open source clients, your account is not associated with the HilbertEndToEnd project. Contact info@super.tech to be added to this project.'"
     ]
    }
   ],
   "source": [
    "job_css = service.create_job(\n",
    "    circuit=circuit1, repetitions=100, target=\"cq_hilbert_simulator\", options=options\n",
    ")\n",
    "result_css = job_css.counts()\n",
    "print(f\"Counts from cirq-superstaq submission: {result_css}\")"
   ]
  },
  {
   "cell_type": "markdown",
   "id": "c6a4b1d3",
   "metadata": {},
   "source": [
    "## Multiple circuit compilation"
   ]
  },
  {
   "cell_type": "code",
   "execution_count": 7,
   "id": "40fd33d8",
   "metadata": {},
   "outputs": [],
   "source": [
    "compiler_output = service.cq_compile([circuit, circuit1])"
   ]
  },
  {
   "cell_type": "code",
   "execution_count": 8,
   "id": "d1961e28",
   "metadata": {},
   "outputs": [
    {
     "name": "stdout",
     "output_type": "stream",
     "text": [
      "(0, 0): ───RGate(0.5π, -0.5π)───M───\n",
      "\n",
      "(0, 0): ───RGate(0.5π, -0.5π)───@───M───RGate(-0.25π, -0.5π)───────────RGate(0.25π, -0.5π)───────────\n",
      "           │                    │       │                              │\n",
      "(0, 1): ───#2───────────────────@───────#2─────────────────────Rz(π)───#2────────────────────Rz(π)───\n"
     ]
    }
   ],
   "source": [
    "print(compiler_output.circuits[0])\n",
    "print()\n",
    "print(compiler_output.circuits[1])"
   ]
  },
  {
   "cell_type": "code",
   "execution_count": null,
   "id": "1083d911",
   "metadata": {},
   "outputs": [],
   "source": []
  }
 ],
 "metadata": {
  "kernelspec": {
   "display_name": "Python 3 (ipykernel)",
   "language": "python",
   "name": "python3"
  },
  "language_info": {
   "codemirror_mode": {
    "name": "ipython",
    "version": 3
   },
   "file_extension": ".py",
   "mimetype": "text/x-python",
   "name": "python",
   "nbconvert_exporter": "python",
   "pygments_lexer": "ipython3",
   "version": "3.10.6"
  }
 },
 "nbformat": 4,
 "nbformat_minor": 5
}
