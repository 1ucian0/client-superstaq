{
 "cells": [
  {
   "cell_type": "markdown",
   "id": "911d3c9e-2759-450d-9d71-e65d3f33e382",
   "metadata": {},
   "source": [
    "# IBM Dynamical Decoupling Optimizations with Superstaq"
   ]
  },
  {
   "cell_type": "markdown",
   "id": "ee5db276-d951-4fe0-b5f3-194ba3c9f865",
   "metadata": {},
   "source": [
    "Below is a brief tutorial on SuperstaQ dynamical decoupling optimizations for the IBM family of superconducting quantum devices. For more information about IBM Quantum, visit their website [here](https://quantum-computing.ibm.com/).\n"
   ]
  },
  {
   "cell_type": "code",
   "execution_count": 1,
   "id": "44c5c05e-2e97-4f67-804e-c03691c4d298",
   "metadata": {},
   "outputs": [],
   "source": [
    "%pip install qiskit-superstaq"
   ]
  },
  {
   "cell_type": "code",
   "execution_count": 3,
   "id": "da53d8e7-3fd6-43fc-accb-a97fa4511927",
   "metadata": {},
   "outputs": [],
   "source": [
    "# Required imports\n",
    "import numpy as np\n",
    "import qiskit\n",
    "import qiskit_superstaq as qss\n",
    "\n",
    "# Optional imports\n",
    "import os  # used if setting a token as an environment variable"
   ]
  },
  {
   "cell_type": "markdown",
   "id": "cf7190af-16a0-4dc7-a5b3-c893c950b8b2",
   "metadata": {},
   "source": [
    "To interface Superstaq via Qiskit, we must first instantiate a provider in `qiskit-superstaq` with `SuperstaQProvider()`. We then supply a Superstaq API token (or key) by either providing the API token as an argument of `qss.SuperstaQProvider()` or by setting it as an environment variable (see more details [here](https://docs-superstaq.readthedocs.io/en/stable/get_started/basics/basics_qss.html#Import-Superstaq-and-requirements))."
   ]
  },
  {
   "cell_type": "code",
   "execution_count": 5,
   "id": "dfa13fec-7580-4d74-9c67-b997fe690b5e",
   "metadata": {},
   "outputs": [],
   "source": [
    "# Get the qiskit superstaq provider for Superstaq backend\n",
    "# Provide your api key to the using the \"api_key\" argument if\n",
    "# SUPERSTAQ_API_KEY environment variable is not set.\n",
    "provider = qss.SuperstaQProvider()"
   ]
  },
  {
   "cell_type": "code",
   "execution_count": null,
   "id": "5306543a-cbba-4a3b-8342-e4fbb8f2d19a",
   "metadata": {},
   "outputs": [],
   "source": [
    "lagos_backend = provider.get_backend(\"ibmq_lagos_qpu\")"
   ]
  },
  {
   "cell_type": "code",
   "execution_count": 6,
   "id": "59605e80-288f-473b-9b63-0bcf4ea2d759",
   "metadata": {},
   "outputs": [
    {
     "data": {
      "text/html": [
       "<pre style=\"word-wrap: normal;white-space: pre;background: #fff0;line-height: 1.1;font-family: &quot;Courier New&quot;,Courier,monospace\">     ┌───┐               \n",
       "q_0: ┤ H ├──■────────────\n",
       "     └───┘┌─┴─┐          \n",
       "q_1: ─────┤ X ├──■───────\n",
       "          └───┘┌─┴─┐     \n",
       "q_2: ──────────┤ X ├──■──\n",
       "               └───┘┌─┴─┐\n",
       "q_3: ───────────────┤ X ├\n",
       "                    └───┘</pre>"
      ],
      "text/plain": [
       "     ┌───┐               \n",
       "q_0: ┤ H ├──■────────────\n",
       "     └───┘┌─┴─┐          \n",
       "q_1: ─────┤ X ├──■───────\n",
       "          └───┘┌─┴─┐     \n",
       "q_2: ──────────┤ X ├──■──\n",
       "               └───┘┌─┴─┐\n",
       "q_3: ───────────────┤ X ├\n",
       "                    └───┘"
      ]
     },
     "execution_count": 6,
     "metadata": {},
     "output_type": "execute_result"
    }
   ],
   "source": [
    "qc = qiskit.QuantumCircuit(4)\n",
    "qc.h(0)\n",
    "qc.cx(0,1)\n",
    "qc.cx(1,2)\n",
    "qc.cx(2,3)\n",
    "qc.draw()"
   ]
  },
  {
   "cell_type": "code",
   "execution_count": 8,
   "id": "b83908f1-55fb-4ec3-87c4-81b43553ddf0",
   "metadata": {},
   "outputs": [],
   "source": [
    "qc_compiled = lagos_backend.compile(qc)"
   ]
  },
  {
   "cell_type": "code",
   "execution_count": null,
   "id": "ba66818a-0b34-4f03-9a59-bd3ecd39e84c",
   "metadata": {},
   "outputs": [],
   "source": []
  },
  {
   "cell_type": "code",
   "execution_count": null,
   "id": "fbeaab8c-8138-4178-9a5e-b6214c4b371b",
   "metadata": {},
   "outputs": [],
   "source": []
  }
 ],
 "metadata": {
  "kernelspec": {
   "display_name": "dd-stagger-venv",
   "language": "python",
   "name": "dd-stagger-venv"
  },
  "language_info": {
   "codemirror_mode": {
    "name": "ipython",
    "version": 3
   },
   "file_extension": ".py",
   "mimetype": "text/x-python",
   "name": "python",
   "nbconvert_exporter": "python",
   "pygments_lexer": "ipython3",
   "version": "3.9.13"
  }
 },
 "nbformat": 4,
 "nbformat_minor": 5
}
