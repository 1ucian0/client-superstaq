{
 "cells": [
  {
   "cell_type": "markdown",
   "id": "cf056b55",
   "metadata": {},
   "source": [
    "# Accessing info with `qiskit-superstaq`\n",
    "This tutorial will cover the information you can access on your account and related jobs and backends using `qiskit-superstaq`."
   ]
  },
  {
   "cell_type": "markdown",
   "id": "70537a94",
   "metadata": {},
   "source": [
    "## Imports and API Token\n",
    "\n",
    "As usual, we'll begin with importing requirements and setting up access to Superstaq. This tutorial uses `qiskit-superstaq`, our Superstaq client for Qiskit. You can install it and relevant dependencies by running `pip install qiskit-superstaq[examples]`."
   ]
  },
  {
   "cell_type": "code",
   "execution_count": null,
   "id": "b85905dc",
   "metadata": {},
   "outputs": [],
   "source": [
    "%pip install qiskit-superstaq[examples]"
   ]
  },
  {
   "cell_type": "code",
   "execution_count": 1,
   "id": "1a637717",
   "metadata": {},
   "outputs": [],
   "source": [
    "# requirements to use qiskit-superstaq\n",
    "import qiskit\n",
    "import qiskit_superstaq as qss"
   ]
  },
  {
   "cell_type": "markdown",
   "id": "55ead78f",
   "metadata": {},
   "source": [
    "Now, we instantiate a provider in `qiskit-superstaq` with `SuperstaQProvider()`. Supply the Superstaq API token by providing the token as an argument of `qss.SuperstaQProvider()` or setting it as an environment variable (see [this guide](/get_started/basics/basics_qss.html))."
   ]
  },
  {
   "cell_type": "code",
   "execution_count": 2,
   "id": "562b5d46",
   "metadata": {},
   "outputs": [],
   "source": [
    "# for qiskit-superstaq: provider for SuperstaQ backend\n",
    "provider = qss.SuperstaQProvider()"
   ]
  },
  {
   "cell_type": "markdown",
   "id": "42932197",
   "metadata": {},
   "source": [
    "## Account Information"
   ]
  },
  {
   "cell_type": "markdown",
   "id": "10fc81e6",
   "metadata": {},
   "source": [
    "The `provider` class gives you a means to retrieve information regarding your Superstaq account. Currently, you can use `provider` to retrieve your Superstaq balance."
   ]
  },
  {
   "cell_type": "code",
   "execution_count": 3,
   "id": "f0730b90",
   "metadata": {},
   "outputs": [
    {
     "data": {
      "text/plain": [
       "'$200.00'"
      ]
     },
     "execution_count": 3,
     "metadata": {},
     "output_type": "execute_result"
    }
   ],
   "source": [
    "provider.get_balance()"
   ]
  },
  {
   "cell_type": "markdown",
   "id": "91a268ec",
   "metadata": {},
   "source": [
    "If are interested in increasing your balance or have more information on your user role, please reach out to us at superstaq@infleqtion.com or join our [Slack workspace](https://join.slack.com/t/superstaq/shared_invite/zt-1wr6eok5j-fMwB7dPEWGG~5S474xGhxw)."
   ]
  },
  {
   "cell_type": "markdown",
   "id": "332617c4",
   "metadata": {},
   "source": [
    "## Backend Information\n",
    "In addition to account information, the`provider` object also gives you a list of all the devices and simulators to which you have access, as well as additional information about those backends.\n",
    "* `backends()`: Retrieves a list of available backends\n",
    "* `get_backend(\"<backend_name>\")`: Select your target backend, where `<backend_name>` is the name of the desired device\n",
    "* `get_backend(\"<backend_name>\").target_info()`: Retrieve information on your selected backend, such as number of qubits, native gate set"
   ]
  },
  {
   "cell_type": "code",
   "execution_count": 9,
   "id": "58ce4b24",
   "metadata": {},
   "outputs": [
    {
     "ename": "AttributeError",
     "evalue": "'SuperstaQBackend' object has no attribute 'target_info'",
     "output_type": "error",
     "traceback": [
      "\u001b[0;31m---------------------------------------------------------------------------\u001b[0m",
      "\u001b[0;31mAttributeError\u001b[0m                            Traceback (most recent call last)",
      "Cell \u001b[0;32mIn [9], line 2\u001b[0m\n\u001b[1;32m      1\u001b[0m backend \u001b[38;5;241m=\u001b[39m provider\u001b[38;5;241m.\u001b[39mget_backend(\u001b[38;5;124m\"\u001b[39m\u001b[38;5;124mibmq_lagos_qpu\u001b[39m\u001b[38;5;124m\"\u001b[39m) \u001b[38;5;66;03m# selecting the IBM Lagos device\u001b[39;00m\n\u001b[0;32m----> 2\u001b[0m \u001b[43mbackend\u001b[49m\u001b[38;5;241;43m.\u001b[39;49m\u001b[43mtarget_info\u001b[49m()\n",
      "\u001b[0;31mAttributeError\u001b[0m: 'SuperstaQBackend' object has no attribute 'target_info'"
     ]
    }
   ],
   "source": [
    "backend = provider.get_backend(\"ibmq_lagos_qpu\") # selecting the IBM Lagos device\n",
    "backend.target_info()"
   ]
  },
  {
   "cell_type": "code",
   "execution_count": 28,
   "id": "1f62a8b3",
   "metadata": {},
   "outputs": [
    {
     "data": {
      "text/plain": [
       "{'backend_name': 'ibmq_lagos_qpu',\n",
       " 'backend_version': '1',\n",
       " 'operational': True,\n",
       " 'pending_jobs': 0,\n",
       " 'status_msg': ''}"
      ]
     },
     "execution_count": 28,
     "metadata": {},
     "output_type": "execute_result"
    }
   ],
   "source": [
    "backend.status().to_dict()"
   ]
  },
  {
   "cell_type": "code",
   "execution_count": 9,
   "id": "7ab7e0ff",
   "metadata": {
    "scrolled": false
   },
   "outputs": [
    {
     "data": {
      "text/plain": [
       "[<SuperstaQBackend('aws_dm1_simulator')>,\n",
       " <SuperstaQBackend('aws_sv1_simulator')>,\n",
       " <SuperstaQBackend('aws_tn1_simulator')>,\n",
       " <SuperstaQBackend('cq_hilbert_qpu')>,\n",
       " <SuperstaQBackend('cq_hilbert_simulator')>,\n",
       " <SuperstaQBackend('hqs_lt-s1-apival_qpu')>,\n",
       " <SuperstaQBackend('hqs_lt-s1_qpu')>,\n",
       " <SuperstaQBackend('hqs_lt-s1_simulator')>,\n",
       " <SuperstaQBackend('hqs_lt-s2_qpu')>,\n",
       " <SuperstaQBackend('ibmq_belem_qpu')>,\n",
       " <SuperstaQBackend('ibmq_extended-stabilizer_simulator')>,\n",
       " <SuperstaQBackend('ibmq_guadalupe_qpu')>,\n",
       " <SuperstaQBackend('ibmq_jakarta_qpu')>,\n",
       " <SuperstaQBackend('ibmq_lagos_qpu')>,\n",
       " <SuperstaQBackend('ibmq_lima_qpu')>,\n",
       " <SuperstaQBackend('ibmq_manila_qpu')>,\n",
       " <SuperstaQBackend('ibmq_mps_simulator')>,\n",
       " <SuperstaQBackend('ibmq_nairobi_qpu')>,\n",
       " <SuperstaQBackend('ibmq_perth_qpu')>,\n",
       " <SuperstaQBackend('ibmq_qasm_simulator')>,\n",
       " <SuperstaQBackend('ibmq_quito_qpu')>,\n",
       " <SuperstaQBackend('ibmq_stabilizer_simulator')>,\n",
       " <SuperstaQBackend('ibmq_statevector_simulator')>,\n",
       " <SuperstaQBackend('ionq_aria-1_qpu')>,\n",
       " <SuperstaQBackend('ionq_harmony_qpu')>,\n",
       " <SuperstaQBackend('ionq_ion_simulator')>,\n",
       " <SuperstaQBackend('ss_unconstrained_simulator')>]"
      ]
     },
     "execution_count": 9,
     "metadata": {},
     "output_type": "execute_result"
    }
   ],
   "source": [
    "provider.backends() # waiting on PR from Paige to get the version where compile-only and run are separated"
   ]
  },
  {
   "cell_type": "markdown",
   "id": "541a58fe",
   "metadata": {},
   "source": [
    "## Job Information\n",
    "Jobs submitted through SuperstaQ contain the following information:\n",
    "* `job_id()`: Unique identifier for the job\n",
    "* `status()`: Status of the job (either Queued, Running, Done)\n",
    "* `backend()`: Device the job was run on\n",
    "* `result().get_counts()`: Counts from the result of the job run\n",
    "* circuit? tag for a job, retrieve jobs by user/tag"
   ]
  },
  {
   "cell_type": "code",
   "execution_count": 3,
   "id": "dbd6a92a",
   "metadata": {},
   "outputs": [],
   "source": [
    "# using Qiskit\n",
    "qc = qiskit.QuantumCircuit(2, 2)\n",
    "qc.h(0)\n",
    "qc.cx(0, 1)\n",
    "qc.measure([0, 1], [0, 1])\n",
    "\n",
    "backend = provider.get_backend(\"ibmq_qasm_simulator\")\n",
    "job_qss = backend.run(qc, shots=100)\n",
    "results_qss = job_qss.result().get_counts()\n"
   ]
  },
  {
   "cell_type": "code",
   "execution_count": 7,
   "id": "6adf4b5b",
   "metadata": {},
   "outputs": [
    {
     "name": "stdout",
     "output_type": "stream",
     "text": [
      "Result(backend_name='ibmq_qasm_simulator', backend_version='n/a', qobj_id='-1', job_id='daec9b20-f097-443f-9b0e-103a0aa8fd9e', success=True, results=[ExperimentResult(shots=100, success=True, meas_level=2, data=ExperimentResultData(counts={'00': 53, '11': 47}))], date=None, status=None, header=None)\n"
     ]
    }
   ],
   "source": [
    "print(job_qss.result())"
   ]
  }
 ],
 "metadata": {
  "kernelspec": {
   "display_name": "Python 3 (ipykernel)",
   "language": "python",
   "name": "python3"
  },
  "language_info": {
   "codemirror_mode": {
    "name": "ipython",
    "version": 3
   },
   "file_extension": ".py",
   "mimetype": "text/x-python",
   "name": "python",
   "nbconvert_exporter": "python",
   "pygments_lexer": "ipython3",
   "version": "3.10.6"
  }
 },
 "nbformat": 4,
 "nbformat_minor": 5
}
