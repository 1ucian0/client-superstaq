{
 "cells": [
  {
   "cell_type": "markdown",
   "id": "cf056b55",
   "metadata": {},
   "source": [
    "# Accessing info with `qiskit-superstaq`\n",
    "Below we'll go over how you can retrieve information on your account, your jobs, and backends that you can access with Superstaq."
   ]
  },
  {
   "cell_type": "markdown",
   "id": "70537a94",
   "metadata": {},
   "source": [
    "## Imports and API Token\n",
    "\n",
    "As usual, we'll being with importing requirements and setting up access to Superstaq.This tutorial uses `qiskit-superstaq`, our Superstaq client for Qiskit. You can install it and relevant dependencies by running `pip install qiskit-superstaq[examples]`."
   ]
  },
  {
   "cell_type": "code",
   "execution_count": null,
   "id": "b85905dc",
   "metadata": {},
   "outputs": [],
   "source": [
    "%pip install qiskit-superstaq[examples]"
   ]
  },
  {
   "cell_type": "code",
   "execution_count": 1,
   "id": "1a637717",
   "metadata": {},
   "outputs": [],
   "source": [
    "# requirements to use qiskit-superstaq\n",
    "import qiskit\n",
    "import qiskit_superstaq as qss\n",
    "\n",
    "# optional\n",
    "import json # not required to use SuperstaQ; used here to pretty print backend information\n",
    "import os # used to set a token as an environment variable"
   ]
  },
  {
   "cell_type": "markdown",
   "id": "55ead78f",
   "metadata": {},
   "source": [
    "Now, we instantiate a provider in `qiskit-superstaq` with `SuperstaQProvider()`. Supply the Superstaq API token by providing the token as an argument of `qss.SuperstaQProvider()` or setting it as an environment variable (see [this guide](/get_started/basics/basics_qss.html))."
   ]
  },
  {
   "cell_type": "code",
   "execution_count": 2,
   "id": "562b5d46",
   "metadata": {},
   "outputs": [],
   "source": [
    "# for qiskit-superstaq: provider for SuperstaQ backend\n",
    "provider = qss.SuperstaQProvider()"
   ]
  },
  {
   "cell_type": "markdown",
   "id": "42932197",
   "metadata": {},
   "source": [
    "## Account Information"
   ]
  },
  {
   "cell_type": "markdown",
   "id": "10fc81e6",
   "metadata": {},
   "source": [
    "The `provider` class gives you a means to retrieve and set SuperstaQ account information.\n",
    "* `get_balance()`: \n",
    "* `ibmq_set_token()`: <mark><span style=\"color:red\">doesn't work</span></mark>\n",
    "* <mark><span style=\"color:red\">Check user role - not part of Open Beta</span></mark>\n",
    "    - If you'd like to upgrade your user account, please reach out to superstaq@infleqtion.com!\n",
    "\n",
    "Below is a brief example of how to use one of these functions:"
   ]
  },
  {
   "cell_type": "code",
   "execution_count": 3,
   "id": "f0730b90",
   "metadata": {},
   "outputs": [
    {
     "data": {
      "text/plain": [
       "'$76.25'"
      ]
     },
     "execution_count": 3,
     "metadata": {},
     "output_type": "execute_result"
    }
   ],
   "source": [
    "provider.get_balance()"
   ]
  },
  {
   "cell_type": "markdown",
   "id": "332617c4",
   "metadata": {},
   "source": [
    "## Backend Information\n",
    "In addition to account information, the`provider` object also gives you a list of all the devices to which you have access, <mark><span style=\"color:red\">as well as additional information about those devices.</span></mark>\n",
    "* <mark><span style=\"color:red\">methods for device status, quantum volume, gate fidelities</span></mark>\n",
    "* `backends()`: Retrieves a list of available backends\n",
    "    - <mark><span style=\"color:red\">filter backends?</span></mark>\n",
    "* `get_backend(\"<backend_name>\")`: Select your target backend, where `<backend_name>` is the name of the desired device\n",
    "* "
   ]
  },
  {
   "cell_type": "code",
   "execution_count": 27,
   "id": "58ce4b24",
   "metadata": {},
   "outputs": [
    {
     "data": {
      "text/plain": [
       "{'num_qubits': 7,\n",
       " 'target': 'ibmq_lagos_qpu',\n",
       " 'native_gate_set': ['id', 'rz', 'sx', 'x', 'cx', 'reset'],\n",
       " 'max_experiments': 300,\n",
       " 'coupling_map': [[0, 1],\n",
       "  [1, 0],\n",
       "  [1, 2],\n",
       "  [1, 3],\n",
       "  [2, 1],\n",
       "  [3, 1],\n",
       "  [3, 5],\n",
       "  [4, 5],\n",
       "  [5, 3],\n",
       "  [5, 4],\n",
       "  [5, 6],\n",
       "  [6, 5]],\n",
       " 'max_shots': 32000,\n",
       " 'processor_type': {'family': 'Falcon', 'revision': '5.11', 'segment': 'H'},\n",
       " 'open_pulse': True}"
      ]
     },
     "execution_count": 27,
     "metadata": {},
     "output_type": "execute_result"
    }
   ],
   "source": [
    "backend = provider.get_backend(\"ibmq_lagos_qpu\")\n",
    "backend.target_info()"
   ]
  },
  {
   "cell_type": "code",
   "execution_count": 28,
   "id": "1f62a8b3",
   "metadata": {},
   "outputs": [
    {
     "data": {
      "text/plain": [
       "{'backend_name': 'ibmq_lagos_qpu',\n",
       " 'backend_version': '1',\n",
       " 'operational': True,\n",
       " 'pending_jobs': 0,\n",
       " 'status_msg': ''}"
      ]
     },
     "execution_count": 28,
     "metadata": {},
     "output_type": "execute_result"
    }
   ],
   "source": [
    "backend.status().to_dict()"
   ]
  },
  {
   "cell_type": "code",
   "execution_count": 30,
   "id": "7ab7e0ff",
   "metadata": {
    "scrolled": false
   },
   "outputs": [
    {
     "ename": "AttributeError",
     "evalue": "'SuperstaQProvider' object has no attribute 'get_backends'",
     "output_type": "error",
     "traceback": [
      "\u001b[0;31m---------------------------------------------------------------------------\u001b[0m",
      "\u001b[0;31mAttributeError\u001b[0m                            Traceback (most recent call last)",
      "Cell \u001b[0;32mIn[30], line 1\u001b[0m\n\u001b[0;32m----> 1\u001b[0m \u001b[43mprovider\u001b[49m\u001b[38;5;241;43m.\u001b[39;49m\u001b[43mget_backends\u001b[49m()\n",
      "\u001b[0;31mAttributeError\u001b[0m: 'SuperstaQProvider' object has no attribute 'get_backends'"
     ]
    }
   ],
   "source": [
    "provider.backends() # check in qss to see which method this should be instead to get list of compile only, etc."
   ]
  },
  {
   "cell_type": "markdown",
   "id": "541a58fe",
   "metadata": {},
   "source": [
    "## Job Information\n",
    "Jobs submitted through SuperstaQ contain the following information:\n",
    "* `job_id()`: Unique identifier for the job\n",
    "* `status()`: Status of the job (either <mark><span style=\"color:red\">Queued, Running, Done</span></mark>)\n",
    "* `backend()`: Device the job was run on\n",
    "* `result().get_counts()`: Counts from the result of the job run\n",
    "* circuit? tag for a job, retrieve jobs by user/tag"
   ]
  },
  {
   "cell_type": "code",
   "execution_count": 3,
   "id": "dbd6a92a",
   "metadata": {},
   "outputs": [],
   "source": [
    "# using Qiskit\n",
    "qc = qiskit.QuantumCircuit(2, 2)\n",
    "qc.h(0)\n",
    "qc.cx(0, 1)\n",
    "qc.measure([0, 1], [0, 1])\n",
    "\n",
    "backend = provider.get_backend(\"ibmq_qasm_simulator\")\n",
    "job_qss = backend.run(qc, shots=100)\n",
    "results_qss = job_qss.result().get_counts()\n"
   ]
  },
  {
   "cell_type": "code",
   "execution_count": 7,
   "id": "6adf4b5b",
   "metadata": {},
   "outputs": [
    {
     "name": "stdout",
     "output_type": "stream",
     "text": [
      "Result(backend_name='ibmq_qasm_simulator', backend_version='n/a', qobj_id='-1', job_id='daec9b20-f097-443f-9b0e-103a0aa8fd9e', success=True, results=[ExperimentResult(shots=100, success=True, meas_level=2, data=ExperimentResultData(counts={'00': 53, '11': 47}))], date=None, status=None, header=None)\n"
     ]
    }
   ],
   "source": [
    "print(job_qss.result())"
   ]
  }
 ],
 "metadata": {
  "kernelspec": {
   "display_name": "Python 3 (ipykernel)",
   "language": "python",
   "name": "python3"
  },
  "language_info": {
   "codemirror_mode": {
    "name": "ipython",
    "version": 3
   },
   "file_extension": ".py",
   "mimetype": "text/x-python",
   "name": "python",
   "nbconvert_exporter": "python",
   "pygments_lexer": "ipython3",
   "version": "3.11.2"
  }
 },
 "nbformat": 4,
 "nbformat_minor": 5
}
