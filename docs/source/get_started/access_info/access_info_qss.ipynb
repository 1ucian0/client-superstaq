{
 "cells": [
  {
   "cell_type": "markdown",
   "id": "cf056b55",
   "metadata": {},
   "source": [
    "# Accessing info with `qiskit-superstaq`\n",
    "Below we'll go over how you can retrieve information on your account, your jobs, and backends that you can access with Superstaq."
   ]
  },
  {
   "cell_type": "markdown",
   "id": "70537a94",
   "metadata": {},
   "source": [
    "## Imports and API Token\n",
    "\n",
    "As usual, we'll being with importing requirements and setting up access to Superstaq.This tutorial uses `qiskit-superstaq`, our Superstaq client for Qiskit. You can install it and relevant dependencies by running `pip install qiskit-superstaq[examples]`."
   ]
  },
  {
   "cell_type": "code",
   "execution_count": null,
   "id": "b85905dc",
   "metadata": {},
   "outputs": [],
   "source": [
    "%pip install qiskit-superstaq[examples]"
   ]
  },
  {
   "cell_type": "code",
   "execution_count": 1,
   "id": "1a637717",
   "metadata": {},
   "outputs": [],
   "source": [
    "# requirements to use qiskit-superstaq\n",
    "import qiskit\n",
    "import qiskit_superstaq as qss\n",
    "\n",
    "# optional\n",
    "import json # not required to use SuperstaQ; used here to pretty print backend information\n",
    "import os # used to set a token as an environment variable"
   ]
  },
  {
   "cell_type": "markdown",
   "id": "55ead78f",
   "metadata": {},
   "source": [
    "Now, we instantiate a provider in `qiskit-superstaq` with `SuperstaQProvider()`. Supply the Superstaq API token by providing the token as an argument of `qss.SuperstaQProvider()` or setting it as an environment variable (see [this guide](/get_started/basics/basics_qss.html))."
   ]
  },
  {
   "cell_type": "code",
   "execution_count": 2,
   "id": "562b5d46",
   "metadata": {},
   "outputs": [],
   "source": [
    "# for qiskit-superstaq: provider for SuperstaQ backend\n",
    "provider = qss.SuperstaQProvider()"
   ]
  },
  {
   "cell_type": "markdown",
   "id": "42932197",
   "metadata": {},
   "source": [
    "## Account Information"
   ]
  },
  {
   "cell_type": "markdown",
   "id": "10fc81e6",
   "metadata": {},
   "source": [
    "The `provider` object gives you a means to retrieve and set SuperstaQ account information.\n",
    "* `get_balance()`: \n",
    "* `ibmq_set_token()`:\n",
    "    - If you'd like to upgrade your user account, please reach out to superstaq@infleqtion.com!\n",
    "* <mark><span style=\"color:red\">Figure out way to enter your own IBMQ token</span></mark>\n",
    "\n",
    "Below is a brief example of how to use one of these functions:"
   ]
  },
  {
   "cell_type": "code",
   "execution_count": 3,
   "id": "f0730b90",
   "metadata": {},
   "outputs": [
    {
     "data": {
      "text/plain": [
       "'$76.25'"
      ]
     },
     "execution_count": 3,
     "metadata": {},
     "output_type": "execute_result"
    }
   ],
   "source": [
    "provider.get_balance()"
   ]
  },
  {
   "cell_type": "markdown",
   "id": "332617c4",
   "metadata": {},
   "source": [
    "## Device Information\n",
    "In addition to account information, the `service` (for `cirq-superstaq`) and `provider` (for `qiskit-superstaq`) objects also provide you a list of all the devices to which you have access, <mark><span style=\"color:red\">as well as additional information about those devices.</span></mark>\n",
    "* <mark><span style=\"color:red\">functions for device status, basis gates, coupling map, quantum volume, gate fidelities</span></mark>"
   ]
  },
  {
   "cell_type": "code",
   "execution_count": 5,
   "id": "7ab7e0ff",
   "metadata": {
    "scrolled": false
   },
   "outputs": [
    {
     "data": {
      "text/plain": [
       "[<SuperstaQBackend('aws_dm1_simulator')>,\n",
       " <SuperstaQBackend('aws_sv1_simulator')>,\n",
       " <SuperstaQBackend('aws_tn1_simulator')>,\n",
       " <SuperstaQBackend('cq_hilbert_qpu')>,\n",
       " <SuperstaQBackend('cq_hilbert_simulator')>,\n",
       " <SuperstaQBackend('hqs_lt-s1-apival_qpu')>,\n",
       " <SuperstaQBackend('hqs_lt-s1_qpu')>,\n",
       " <SuperstaQBackend('hqs_lt-s1_simulator')>,\n",
       " <SuperstaQBackend('hqs_lt-s2_qpu')>,\n",
       " <SuperstaQBackend('ibmq_belem_qpu')>,\n",
       " <SuperstaQBackend('ibmq_extended-stabilizer_simulator')>,\n",
       " <SuperstaQBackend('ibmq_guadalupe_qpu')>,\n",
       " <SuperstaQBackend('ibmq_jakarta_qpu')>,\n",
       " <SuperstaQBackend('ibmq_lagos_qpu')>,\n",
       " <SuperstaQBackend('ibmq_lima_qpu')>,\n",
       " <SuperstaQBackend('ibmq_manila_qpu')>,\n",
       " <SuperstaQBackend('ibmq_mps_simulator')>,\n",
       " <SuperstaQBackend('ibmq_nairobi_qpu')>,\n",
       " <SuperstaQBackend('ibmq_perth_qpu')>,\n",
       " <SuperstaQBackend('ibmq_qasm_simulator')>,\n",
       " <SuperstaQBackend('ibmq_quito_qpu')>,\n",
       " <SuperstaQBackend('ibmq_stabilizer_simulator')>,\n",
       " <SuperstaQBackend('ibmq_statevector_simulator')>,\n",
       " <SuperstaQBackend('ionq_aria-1_qpu')>,\n",
       " <SuperstaQBackend('ionq_harmony_qpu')>,\n",
       " <SuperstaQBackend('ionq_ion_simulator')>,\n",
       " <SuperstaQBackend('ss_unconstrained_simulator')>]"
      ]
     },
     "execution_count": 5,
     "metadata": {},
     "output_type": "execute_result"
    }
   ],
   "source": [
    "provider.backends()"
   ]
  },
  {
   "cell_type": "markdown",
   "id": "541a58fe",
   "metadata": {},
   "source": [
    "## Job Information\n",
    "Jobs submitted through SuperstaQ contain the following information:\n",
    "* `job_id()`: Unique identifier for the job\n",
    "* `status()`: Status of the job (either <mark><span style=\"color:red\">Queued, Done</span></mark>)\n",
    "* `backend()`: Device the job was run on\n",
    "* `result().get_counts()`: Counts from the result of the job run"
   ]
  },
  {
   "cell_type": "code",
   "execution_count": 3,
   "id": "dbd6a92a",
   "metadata": {},
   "outputs": [],
   "source": [
    "# using Qiskit\n",
    "qc = qiskit.QuantumCircuit(2, 2)\n",
    "qc.h(0)\n",
    "qc.cx(0, 1)\n",
    "qc.measure([0, 1], [0, 1])\n",
    "\n",
    "backend = provider.get_backend(\"ibmq_qasm_simulator\")\n",
    "job_qss = backend.run(qc, shots=100)\n",
    "results_qss = job_qss.result().get_counts()\n"
   ]
  },
  {
   "cell_type": "code",
   "execution_count": 7,
   "id": "6adf4b5b",
   "metadata": {},
   "outputs": [
    {
     "name": "stdout",
     "output_type": "stream",
     "text": [
      "Result(backend_name='ibmq_qasm_simulator', backend_version='n/a', qobj_id='-1', job_id='daec9b20-f097-443f-9b0e-103a0aa8fd9e', success=True, results=[ExperimentResult(shots=100, success=True, meas_level=2, data=ExperimentResultData(counts={'00': 53, '11': 47}))], date=None, status=None, header=None)\n"
     ]
    }
   ],
   "source": [
    "print(job_qss.result())"
   ]
  }
 ],
 "metadata": {
  "kernelspec": {
   "display_name": "Python 3 (ipykernel)",
   "language": "python",
   "name": "python3"
  },
  "language_info": {
   "codemirror_mode": {
    "name": "ipython",
    "version": 3
   },
   "file_extension": ".py",
   "mimetype": "text/x-python",
   "name": "python",
   "nbconvert_exporter": "python",
   "pygments_lexer": "ipython3",
   "version": "3.10.6"
  }
 },
 "nbformat": 4,
 "nbformat_minor": 5
}
