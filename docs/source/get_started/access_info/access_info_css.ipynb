{
 "cells": [
  {
   "attachments": {},
   "cell_type": "markdown",
   "id": "cf056b55",
   "metadata": {},
   "source": [
    "# Accessing info with `cirq-superstaq`\n",
    "Now that you have the basics of SuperstaQ down, we'll now go over additional features of Superstaq that will allow you to obtain more information about your account, the jobs you create, and the backends to which you can access.\n",
    "\n",
    "We will start as usual, by importing requirements and setting up access to Superstaq."
   ]
  },
  {
   "cell_type": "code",
   "execution_count": 1,
   "id": "1a637717",
   "metadata": {},
   "outputs": [],
   "source": [
    "# requirements to use cirq-superstaq\n",
    "import cirq\n",
    "import cirq_superstaq as css\n",
    "\n",
    "# requirements to use qiskit-superstaq\n",
    "import qiskit\n",
    "import qiskit_superstaq as qss\n",
    "\n",
    "# optional\n",
    "import json # not required to use SuperstaQ; used here to pretty print backend information\n",
    "import os # used to set a token as an environment variable\n",
    "import ipywidgets as widgets # not required to use SuperstaQ; used here for interactive demonstrations\n",
    "\n",
    "os.environ[\"SUPERSTAQ_API_KEY\"] = token # setting the token as an environment variable, which must be called SUPERSTAQ_API_KEY\n",
    "\n",
    "# for cirq-superstaq: service to access SuperstaQ's API\n",
    "service = css.Service()\n",
    "\n",
    "# for qiskit-superstaq: provider for SuperstaQ backend\n",
    "provider = qss.SuperstaQProvider()"
   ]
  },
  {
   "attachments": {},
   "cell_type": "markdown",
   "id": "42932197",
   "metadata": {},
   "source": [
    "## Account Information"
   ]
  },
  {
   "attachments": {},
   "cell_type": "markdown",
   "id": "10fc81e6",
   "metadata": {},
   "source": [
    "The `service` (for `cirq-superstaq`) and `provider` (for `qiskit-superstaq`) objects provide you a means to retrieve and set SuperstaQ account information.\n",
    "* `get_balance()`\n",
    "* role\n",
    "    - If you'd like to upgrade your user account, please reach out to info@super.tech!\n",
    "* <mark><span style=\"color:red\">Figure out way to enter your own IBMQ token</span></mark>\n",
    "\n",
    "Below is a brief example of how to use one of these functions:"
   ]
  },
  {
   "cell_type": "code",
   "execution_count": 2,
   "id": "f0730b90",
   "metadata": {},
   "outputs": [
    {
     "data": {
      "text/plain": [
       "'$156.45'"
      ]
     },
     "execution_count": 2,
     "metadata": {},
     "output_type": "execute_result"
    }
   ],
   "source": [
    "# for cirq-superstaq\n",
    "service.get_balance()\n",
    "\n",
    "# for qiskit-superstaq\n",
    "provider.get_balance()"
   ]
  },
  {
   "attachments": {},
   "cell_type": "markdown",
   "id": "332617c4",
   "metadata": {},
   "source": [
    "## Device Information\n",
    "In addition to account information, the `service` (for `cirq-superstaq`) and `provider` (for `qiskit-superstaq`) objects also provide you a list of all the devices to which you have access, <mark><span style=\"color:red\">as well as additional information about those devices.</span></mark>\n",
    "* <mark><span style=\"color:red\">functions for device status, basis gates, coupling map, quantum volume, gate fidelities</span></mark>"
   ]
  },
  {
   "cell_type": "code",
   "execution_count": 20,
   "id": "7ab7e0ff",
   "metadata": {
    "scrolled": false
   },
   "outputs": [
    {
     "data": {
      "application/vnd.jupyter.widget-view+json": {
       "model_id": "8aea53f731134013bf65be24430728f6",
       "version_major": 2,
       "version_minor": 0
      },
      "text/plain": [
       "interactive(children=(Dropdown(description='client', options=('cirq-superstaq', 'qiskit-superstaq'), value='ci…"
      ]
     },
     "metadata": {},
     "output_type": "display_data"
    }
   ],
   "source": [
    "# for cirq-superstaq\n",
    "css_targets = service.get_targets()\n",
    "\n",
    "# for qiskit-superstaq\n",
    "qss_backends = provider.backends()\n",
    "\n",
    "# widget to view output by client\n",
    "@widgets.interact(client=['cirq-superstaq', 'qiskit-superstaq'])\n",
    "def toggle_circuit(client):\n",
    "    if client == 'cirq-superstaq':\n",
    "        print(json.dumps(css_targets, indent=1))\n",
    "    elif client == 'qiskit-superstaq':\n",
    "        return qss_backends"
   ]
  },
  {
   "attachments": {},
   "cell_type": "markdown",
   "id": "541a58fe",
   "metadata": {},
   "source": [
    "## Job Information\n",
    "Jobs submitted through SuperstaQ contain the following information:\n",
    "* `job_id()`: Unique identifier for the job\n",
    "* `status()`: Status of the job (either <mark><span style=\"color:red\">Queued, Done</span></mark>)\n",
    "* `backend()`: Device the job was run on\n",
    "\n",
    "Specific to jobs run using `qiskit-superstaq`:\n",
    "* `result().get_counts()`: Counts from the result of the job run"
   ]
  },
  {
   "cell_type": "code",
   "execution_count": 3,
   "id": "dbd6a92a",
   "metadata": {},
   "outputs": [],
   "source": [
    "# using Cirq\n",
    "# qubits = cirq.LineQubit.range(2)\n",
    "# circuit = cirq.Circuit(\n",
    "#     cirq.H(qubits[0]), \n",
    "#     cirq.CNOT(qubits[0], qubits[1]), \n",
    "#     cirq.measure(qubits[0]),\n",
    "#     cirq.measure(qubits[1])\n",
    "#     )\n",
    "\n",
    "# using Qiskit\n",
    "qc = qiskit.QuantumCircuit(2, 2)\n",
    "qc.h(0)\n",
    "qc.cx(0, 1)\n",
    "qc.measure([0, 1], [0, 1])\n",
    "\n",
    "backend = provider.get_backend(\"ibmq_qasm_simulator\")\n",
    "job_qss = backend.run(qc, shots=100)\n",
    "results_qss = job_qss.result().get_counts()\n"
   ]
  },
  {
   "cell_type": "code",
   "execution_count": 7,
   "id": "6adf4b5b",
   "metadata": {},
   "outputs": [
    {
     "name": "stdout",
     "output_type": "stream",
     "text": [
      "Result(backend_name='ibmq_qasm_simulator', backend_version='n/a', qobj_id='-1', job_id='daec9b20-f097-443f-9b0e-103a0aa8fd9e', success=True, results=[ExperimentResult(shots=100, success=True, meas_level=2, data=ExperimentResultData(counts={'00': 53, '11': 47}))], date=None, status=None, header=None)\n"
     ]
    }
   ],
   "source": [
    "print(job_qss.result())"
   ]
  }
 ],
 "metadata": {
  "kernelspec": {
   "display_name": "Python 3 (ipykernel)",
   "language": "python",
   "name": "python3"
  },
  "language_info": {
   "codemirror_mode": {
    "name": "ipython",
    "version": 3
   },
   "file_extension": ".py",
   "mimetype": "text/x-python",
   "name": "python",
   "nbconvert_exporter": "python",
   "pygments_lexer": "ipython3",
   "version": "3.9.7"
  }
 },
 "nbformat": 4,
 "nbformat_minor": 5
}
