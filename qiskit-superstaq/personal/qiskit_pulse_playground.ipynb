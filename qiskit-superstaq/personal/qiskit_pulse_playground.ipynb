{
 "cells": [
  {
   "cell_type": "code",
   "execution_count": 12,
   "id": "af6aea6e",
   "metadata": {},
   "outputs": [],
   "source": [
    "import qiskit\n",
    "import os\n",
    "import qiskit_aer"
   ]
  },
  {
   "cell_type": "code",
   "execution_count": 5,
   "id": "21e6bcf7",
   "metadata": {},
   "outputs": [],
   "source": [
    "# Qiskit state discrimination"
   ]
  },
  {
   "cell_type": "code",
   "execution_count": 29,
   "id": "1473c700",
   "metadata": {},
   "outputs": [],
   "source": [
    "# Get IBMQ backends\n",
    "if not qiskit.IBMQ.active_account():\n",
    "    qiskit.IBMQ.enable_account(os.getenv(\"IBMQ_TOKEN\"))\n",
    "provider = qiskit.IBMQ.get_provider(hub=\"ibm-q-startup\", group=\"super-tech-labs\", project=\"reservations\")\n",
    "lagos = provider.get_backend(\"ibm_lagos\")\n",
    "\n",
    "# Get (noisy) Aer simulator objects\n",
    "lagos_noise_model = qiskit_aer.noise.NoiseModel.from_backend(lagos)\n",
    "aer_qasm_sim = qiskit.Aer.get_backend(\"qasm_simulator\")"
   ]
  },
  {
   "cell_type": "code",
   "execution_count": 10,
   "id": "f72eb0be",
   "metadata": {},
   "outputs": [
    {
     "data": {
      "text/html": [
       "<pre style=\"word-wrap: normal;white-space: pre;background: #fff0;line-height: 1.1;font-family: &quot;Courier New&quot;,Courier,monospace\">   ┌───┐\n",
       "q: ┤ H ├\n",
       "   └───┘</pre>"
      ],
      "text/plain": [
       "   ┌───┐\n",
       "q: ┤ H ├\n",
       "   └───┘"
      ]
     },
     "execution_count": 10,
     "metadata": {},
     "output_type": "execute_result"
    }
   ],
   "source": [
    "qc = qiskit.QuantumCircuit(1)\n",
    "qc.h(0)\n",
    "qc.draw()"
   ]
  },
  {
   "cell_type": "code",
   "execution_count": 19,
   "id": "086ff3fe",
   "metadata": {},
   "outputs": [],
   "source": [
    "schedule.draw?"
   ]
  },
  {
   "cell_type": "code",
   "execution_count": 25,
   "id": "2729b0f5",
   "metadata": {},
   "outputs": [
    {
     "name": "stderr",
     "output_type": "stream",
     "text": [
      "/home/dowusu/anaconda3/envs/temp-cenv/lib/python3.9/site-packages/qiskit/compiler/assembler.py:458: RuntimeWarning: Dynamic rep rates are supported on this backend. 'rep_delay' will be used instead of 'rep_time'.\n",
      "  warnings.warn(\n"
     ]
    }
   ],
   "source": [
    "# Set meas_level=0, 1, 2 to change which layer of readout chain to output\n",
    "schedule = qiskit.schedule(qiskit.transpile(qc, backend=lagos), backend=lagos)\n",
    "schedule.draw()\n",
    "job = lagos.retrieve_job(\"cgvbtesueeovm2ujifsg\")  # retrieve at noon\n",
    "# job = lagos.run(schedule, shots=1000)"
   ]
  },
  {
   "cell_type": "code",
   "execution_count": 30,
   "id": "35ea8628",
   "metadata": {},
   "outputs": [
    {
     "data": {
      "text/plain": [
       "{'backend_name': 'qasm_simulator',\n",
       " 'backend_version': '0.12.0',\n",
       " 'date': '2023-04-18T11:04:38.900768',\n",
       " 'header': None,\n",
       " 'qobj_id': '',\n",
       " 'job_id': '49b082db-b17e-4de8-b863-44ff52187d86',\n",
       " 'status': 'COMPLETED',\n",
       " 'success': True,\n",
       " 'results': [{'shots': 1000,\n",
       "   'success': True,\n",
       "   'data': {},\n",
       "   'meas_level': <MeasLevel.CLASSIFIED: 2>,\n",
       "   'header': {'creg_sizes': [],\n",
       "    'global_phase': 0.0,\n",
       "    'memory_slots': 0,\n",
       "    'n_qubits': 1,\n",
       "    'name': 'circuit-88',\n",
       "    'qreg_sizes': [['q', 1]]},\n",
       "   'status': 'DONE',\n",
       "   'seed_simulator': 600015519,\n",
       "   'metadata': {'batched_shots_optimization': False,\n",
       "    'measure_sampling': False,\n",
       "    'parallel_shots': 1,\n",
       "    'remapped_qubits': False,\n",
       "    'active_input_qubits': [],\n",
       "    'num_clbits': 0,\n",
       "    'parallel_state_update': 8,\n",
       "    'num_qubits': 0,\n",
       "    'device': 'CPU',\n",
       "    'input_qubit_map': [],\n",
       "    'method': 'stabilizer'},\n",
       "   'time_taken': 1.1906e-05}],\n",
       " 'metadata': {'time_taken_execute': 5.0038e-05,\n",
       "  'mpi_rank': 0,\n",
       "  'num_mpi_processes': 1,\n",
       "  'max_gpu_memory_mb': 0,\n",
       "  'max_memory_mb': 7640,\n",
       "  'parallel_experiments': 1,\n",
       "  'num_processes_per_experiments': 1,\n",
       "  'omp_enabled': True},\n",
       " 'time_taken': 0.0033516883850097656}"
      ]
     },
     "execution_count": 30,
     "metadata": {},
     "output_type": "execute_result"
    }
   ],
   "source": [
    "job = qiskit.execute(qc, shots=1000, backend=aer_qasm_sim)\n",
    "job.result().to_dict()"
   ]
  },
  {
   "cell_type": "code",
   "execution_count": null,
   "id": "a741a574",
   "metadata": {},
   "outputs": [],
   "source": []
  }
 ],
 "metadata": {
  "kernelspec": {
   "display_name": "Python 3 (ipykernel)",
   "language": "python",
   "name": "python3"
  },
  "language_info": {
   "codemirror_mode": {
    "name": "ipython",
    "version": 3
   },
   "file_extension": ".py",
   "mimetype": "text/x-python",
   "name": "python",
   "nbconvert_exporter": "python",
   "pygments_lexer": "ipython3",
   "version": "3.9.16"
  }
 },
 "nbformat": 4,
 "nbformat_minor": 5
}
